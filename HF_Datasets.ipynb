{
 "cells": [
  {
   "cell_type": "code",
   "execution_count": 1,
   "metadata": {},
   "outputs": [
    {
     "name": "stdout",
     "output_type": "stream",
     "text": [
      "Requirement already satisfied: numpy in /Users/davidoh/opt/anaconda3/envs/py311-pd2/lib/python3.11/site-packages (1.25.1)\n",
      "Requirement already satisfied: datasets in /Users/davidoh/opt/anaconda3/envs/py311-pd2/lib/python3.11/site-packages (2.14.3)\n",
      "Requirement already satisfied: pyarrow>=8.0.0 in /Users/davidoh/opt/anaconda3/envs/py311-pd2/lib/python3.11/site-packages (from datasets) (12.0.1)\n",
      "Requirement already satisfied: dill<0.3.8,>=0.3.0 in /Users/davidoh/opt/anaconda3/envs/py311-pd2/lib/python3.11/site-packages (from datasets) (0.3.7)\n",
      "Requirement already satisfied: pandas in /Users/davidoh/opt/anaconda3/envs/py311-pd2/lib/python3.11/site-packages (from datasets) (2.0.3)\n",
      "Requirement already satisfied: requests>=2.19.0 in /Users/davidoh/opt/anaconda3/envs/py311-pd2/lib/python3.11/site-packages (from datasets) (2.31.0)\n",
      "Requirement already satisfied: tqdm>=4.62.1 in /Users/davidoh/opt/anaconda3/envs/py311-pd2/lib/python3.11/site-packages (from datasets) (4.65.0)\n",
      "Requirement already satisfied: xxhash in /Users/davidoh/opt/anaconda3/envs/py311-pd2/lib/python3.11/site-packages (from datasets) (3.3.0)\n",
      "Requirement already satisfied: multiprocess in /Users/davidoh/opt/anaconda3/envs/py311-pd2/lib/python3.11/site-packages (from datasets) (0.70.15)\n",
      "Requirement already satisfied: fsspec[http]>=2021.11.1 in /Users/davidoh/opt/anaconda3/envs/py311-pd2/lib/python3.11/site-packages (from datasets) (2023.6.0)\n",
      "Requirement already satisfied: aiohttp in /Users/davidoh/opt/anaconda3/envs/py311-pd2/lib/python3.11/site-packages (from datasets) (3.8.5)\n",
      "Requirement already satisfied: huggingface-hub<1.0.0,>=0.14.0 in /Users/davidoh/opt/anaconda3/envs/py311-pd2/lib/python3.11/site-packages (from datasets) (0.16.4)\n",
      "Requirement already satisfied: packaging in /Users/davidoh/opt/anaconda3/envs/py311-pd2/lib/python3.11/site-packages (from datasets) (23.0)\n",
      "Requirement already satisfied: pyyaml>=5.1 in /Users/davidoh/opt/anaconda3/envs/py311-pd2/lib/python3.11/site-packages (from datasets) (6.0)\n",
      "Requirement already satisfied: attrs>=17.3.0 in /Users/davidoh/opt/anaconda3/envs/py311-pd2/lib/python3.11/site-packages (from aiohttp->datasets) (22.1.0)\n",
      "Requirement already satisfied: charset-normalizer<4.0,>=2.0 in /Users/davidoh/opt/anaconda3/envs/py311-pd2/lib/python3.11/site-packages (from aiohttp->datasets) (3.2.0)\n",
      "Requirement already satisfied: multidict<7.0,>=4.5 in /Users/davidoh/opt/anaconda3/envs/py311-pd2/lib/python3.11/site-packages (from aiohttp->datasets) (6.0.4)\n",
      "Requirement already satisfied: async-timeout<5.0,>=4.0.0a3 in /Users/davidoh/opt/anaconda3/envs/py311-pd2/lib/python3.11/site-packages (from aiohttp->datasets) (4.0.2)\n",
      "Requirement already satisfied: yarl<2.0,>=1.0 in /Users/davidoh/opt/anaconda3/envs/py311-pd2/lib/python3.11/site-packages (from aiohttp->datasets) (1.9.2)\n",
      "Requirement already satisfied: frozenlist>=1.1.1 in /Users/davidoh/opt/anaconda3/envs/py311-pd2/lib/python3.11/site-packages (from aiohttp->datasets) (1.4.0)\n",
      "Requirement already satisfied: aiosignal>=1.1.2 in /Users/davidoh/opt/anaconda3/envs/py311-pd2/lib/python3.11/site-packages (from aiohttp->datasets) (1.3.1)\n",
      "Requirement already satisfied: filelock in /Users/davidoh/opt/anaconda3/envs/py311-pd2/lib/python3.11/site-packages (from huggingface-hub<1.0.0,>=0.14.0->datasets) (3.12.2)\n",
      "Requirement already satisfied: typing-extensions>=3.7.4.3 in /Users/davidoh/opt/anaconda3/envs/py311-pd2/lib/python3.11/site-packages (from huggingface-hub<1.0.0,>=0.14.0->datasets) (4.6.3)\n",
      "Requirement already satisfied: idna<4,>=2.5 in /Users/davidoh/opt/anaconda3/envs/py311-pd2/lib/python3.11/site-packages (from requests>=2.19.0->datasets) (3.4)\n",
      "Requirement already satisfied: urllib3<3,>=1.21.1 in /Users/davidoh/opt/anaconda3/envs/py311-pd2/lib/python3.11/site-packages (from requests>=2.19.0->datasets) (2.0.4)\n",
      "Requirement already satisfied: certifi>=2017.4.17 in /Users/davidoh/opt/anaconda3/envs/py311-pd2/lib/python3.11/site-packages (from requests>=2.19.0->datasets) (2023.7.22)\n",
      "Requirement already satisfied: python-dateutil>=2.8.2 in /Users/davidoh/opt/anaconda3/envs/py311-pd2/lib/python3.11/site-packages (from pandas->datasets) (2.8.2)\n",
      "Requirement already satisfied: pytz>=2020.1 in /Users/davidoh/opt/anaconda3/envs/py311-pd2/lib/python3.11/site-packages (from pandas->datasets) (2023.3)\n",
      "Requirement already satisfied: tzdata>=2022.1 in /Users/davidoh/opt/anaconda3/envs/py311-pd2/lib/python3.11/site-packages (from pandas->datasets) (2023.3)\n",
      "Requirement already satisfied: six>=1.5 in /Users/davidoh/opt/anaconda3/envs/py311-pd2/lib/python3.11/site-packages (from python-dateutil>=2.8.2->pandas->datasets) (1.16.0)\n"
     ]
    }
   ],
   "source": [
    "!pip install numpy datasets"
   ]
  },
  {
   "cell_type": "code",
   "execution_count": 2,
   "metadata": {},
   "outputs": [
    {
     "name": "stderr",
     "output_type": "stream",
     "text": [
      "/Users/davidoh/opt/anaconda3/envs/py311-pd2/lib/python3.11/site-packages/tqdm/auto.py:21: TqdmWarning: IProgress not found. Please update jupyter and ipywidgets. See https://ipywidgets.readthedocs.io/en/stable/user_install.html\n",
      "  from .autonotebook import tqdm as notebook_tqdm\n"
     ]
    }
   ],
   "source": [
    "import numpy as np\n",
    "from datasets import load_dataset\n",
    "\n",
    "\n",
    "def scoring_health(patient):\n",
    "    bmi = ((patient['WEIGHT'] / (patient['HEIGHT']/100)**2) >= 30) * 1  # 체질량(BMI)\n",
    "    blds = (patient['BLDS'] >= 125) * 1  # 공복혈당 BLDS\n",
    "    chole = (patient['TOT_CHOLE'] >= 130) * 1  # 총콜레스테롤 TOT_CHOLE\n",
    "    hmg = (patient['HMG'] < 12) * 1  # 혈색소 HMG\n",
    "    sg = ((patient['SGOT_AST'] >= 40) | (patient['SGPT_ALT'] >= 40)) * 1  # 혈청지오티 SGOT_AST, SGPT_ALT\n",
    "    smoke = (patient['SMK_STAT_TYPE_CD'] == 3) * 1  # 흡연 SMOKE\n",
    "    drink = (patient['DRK_YN'] == 1) * 1 # 음주 DRINK\n",
    "    \n",
    "    patient_score = np.sum([bmi, blds, chole, hmg, sg, smoke, drink], axis=0)\n",
    "    patient['SCORE'] = patient_score\n",
    "    \n",
    "    return patient"
   ]
  },
  {
   "cell_type": "code",
   "execution_count": 3,
   "metadata": {},
   "outputs": [
    {
     "name": "stdout",
     "output_type": "stream",
     "text": [
      "[{'IDV_ID': 725578, 'SEX': '여자', 'AGE_GROUP': 1, 'SIDO': '부산광역시', 'HEIGHT': 140, 'WEIGHT': 45, 'SIGHT_LEFT': 0.9, 'SIGHT_RIGHT': 0.9, 'HEAR_LEFT': '정상', 'HEAR_RIGHT': '정상', 'BP_HIGH': 100, 'BP_LWST': 70, 'BLDS': 91, 'TOT_CHOLE': 216, 'HMG': 13.4, 'OLIG_PROTE_CD': 1.0, 'SGOT_AST': 20.0, 'SGPT_ALT': 11.0, 'GAMMA_GTP': 10, 'SMK_STAT_TYPE_CD': '비흡연', 'DRK_YN': None, 'SCORE': 1}, {'IDV_ID': 118183, 'SEX': '여자', 'AGE_GROUP': 1, 'SIDO': '경상남도', 'HEIGHT': 145, 'WEIGHT': 35, 'SIGHT_LEFT': 0.6, 'SIGHT_RIGHT': 0.6, 'HEAR_LEFT': '정상', 'HEAR_RIGHT': '정상', 'BP_HIGH': 120, 'BP_LWST': 90, 'BLDS': 75, 'TOT_CHOLE': 162, 'HMG': 13.0, 'OLIG_PROTE_CD': 1.0, 'SGOT_AST': 26.0, 'SGPT_ALT': 12.0, 'GAMMA_GTP': 19, 'SMK_STAT_TYPE_CD': '비흡연', 'DRK_YN': None, 'SCORE': 1}, {'IDV_ID': 667818, 'SEX': '여자', 'AGE_GROUP': 1, 'SIDO': '서울특별시', 'HEIGHT': 145, 'WEIGHT': 35, 'SIGHT_LEFT': 0.3, 'SIGHT_RIGHT': 1.0, 'HEAR_LEFT': '정상', 'HEAR_RIGHT': '정상', 'BP_HIGH': 111, 'BP_LWST': 74, 'BLDS': 85, 'TOT_CHOLE': 149, 'HMG': 12.7, 'OLIG_PROTE_CD': 1.0, 'SGOT_AST': 16.0, 'SGPT_ALT': 15.0, 'GAMMA_GTP': 12, 'SMK_STAT_TYPE_CD': '비흡연', 'DRK_YN': None, 'SCORE': 1}, {'IDV_ID': 877233, 'SEX': '여자', 'AGE_GROUP': 1, 'SIDO': '충청남도', 'HEIGHT': 145, 'WEIGHT': 40, 'SIGHT_LEFT': 0.9, 'SIGHT_RIGHT': 1.0, 'HEAR_LEFT': '정상', 'HEAR_RIGHT': '정상', 'BP_HIGH': 110, 'BP_LWST': 70, 'BLDS': 88, 'TOT_CHOLE': 170, 'HMG': 12.6, 'OLIG_PROTE_CD': 1.0, 'SGOT_AST': 17.0, 'SGPT_ALT': 10.0, 'GAMMA_GTP': 13, 'SMK_STAT_TYPE_CD': '비흡연', 'DRK_YN': None, 'SCORE': 1}, {'IDV_ID': 917332, 'SEX': '여자', 'AGE_GROUP': 1, 'SIDO': '충청남도', 'HEIGHT': 145, 'WEIGHT': 40, 'SIGHT_LEFT': 1.2, 'SIGHT_RIGHT': 0.1, 'HEAR_LEFT': '정상', 'HEAR_RIGHT': '정상', 'BP_HIGH': 110, 'BP_LWST': 70, 'BLDS': 85, 'TOT_CHOLE': 242, 'HMG': 12.2, 'OLIG_PROTE_CD': 1.0, 'SGOT_AST': 9.0, 'SGPT_ALT': 10.0, 'GAMMA_GTP': 9, 'SMK_STAT_TYPE_CD': '비흡연', 'DRK_YN': None, 'SCORE': 1}]\n"
     ]
    }
   ],
   "source": [
    "dataset = load_dataset('sackoh/pycon-kr-2023-health-check', split='train', streaming=True)\n",
    "updated_dataset = dataset.map(scoring_health, remove_columns=[\"HCHK_YEAR\"])\n",
    "print(list(updated_dataset.take(5)))"
   ]
  },
  {
   "cell_type": "raw",
   "metadata": {},
   "source": [
    "[{'IDV_ID': 725578, 'SEX': '여자', 'AGE_GROUP': 1, 'SIDO': '부산광역시', ..., 'SCORE': 1},\n",
    " {'IDV_ID': 118183, 'SEX': '남자', 'AGE_GROUP': 2, 'SIDO': '경상남도', ...,  'SCORE': 4},\n",
    " {'IDV_ID': 667818, 'SEX': '여자', 'AGE_GROUP': 1, 'SIDO': '서울특별시', ..., 'SCORE': 3}]"
   ]
  }
 ],
 "metadata": {
  "kernelspec": {
   "display_name": "py311-pd2",
   "language": "python",
   "name": "python3"
  },
  "language_info": {
   "codemirror_mode": {
    "name": "ipython",
    "version": 3
   },
   "file_extension": ".py",
   "mimetype": "text/x-python",
   "name": "python",
   "nbconvert_exporter": "python",
   "pygments_lexer": "ipython3",
   "version": "3.11.4"
  },
  "orig_nbformat": 4
 },
 "nbformat": 4,
 "nbformat_minor": 2
}
