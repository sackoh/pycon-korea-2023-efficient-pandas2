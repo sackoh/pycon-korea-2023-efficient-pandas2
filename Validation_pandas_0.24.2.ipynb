{
 "cells": [
  {
   "cell_type": "code",
   "execution_count": 1,
   "metadata": {},
   "outputs": [],
   "source": [
    "import os\n",
    "import gc\n",
    "import time\n",
    "import tempfile\n",
    "import warnings\n",
    "import functools\n",
    "warnings.filterwarnings(action='ignore')\n",
    "\n",
    "import pandas as pd\n",
    "\n",
    "from memory_profiler import memory_usage\n",
    "\n",
    "%load_ext memory_profiler"
   ]
  },
  {
   "cell_type": "code",
   "execution_count": 2,
   "metadata": {},
   "outputs": [
    {
     "data": {
      "text/plain": [
       "'0.24.2'"
      ]
     },
     "execution_count": 2,
     "metadata": {},
     "output_type": "execute_result"
    }
   ],
   "source": [
    "pd.__version__"
   ]
  },
  {
   "cell_type": "code",
   "execution_count": 3,
   "metadata": {},
   "outputs": [],
   "source": [
    "TMP_DIR = \"./tmp\"\n",
    "os.makedirs(TMP_DIR, exist_ok=True)\n",
    "\n",
    "SIZE_MAP = {\n",
    "    \"KB\": 1024 ** 1,\n",
    "    \"MB\": 1024 ** 2,\n",
    "    \"GB\": 1024 ** 3,\n",
    "}\n",
    "\n",
    "\n",
    "def profile(func):\n",
    "    @functools.wraps(func)\n",
    "    def wrapper(*args, **kwargs):\n",
    "        start_time = time.time()\n",
    "        initial_memory = memory_usage()[0]\n",
    "        result = func(*args, **kwargs)\n",
    "        peak_memory = max(memory_usage())\n",
    "        increment_memory = peak_memory - initial_memory\n",
    "        end_time = time.time()\n",
    "        print(f\"[{func.__name__}]\\nElapsed Time: {end_time - start_time:,.3f} seconds,\\nPeak Memory: {peak_memory*1.04858:,.2f} MB,\\nIncrement Memory: {increment_memory*1.04858:,.2f} MB\")\n",
    "        return result\n",
    "    return wrapper\n",
    "\n",
    "\n",
    "def memory_usage_pdobj(pdobj, size=\"MB\"):\n",
    "    return pdobj.memory_usage(deep=True).sum() / SIZE_MAP.get(size, \"MB\")"
   ]
  },
  {
   "cell_type": "code",
   "execution_count": 4,
   "metadata": {},
   "outputs": [],
   "source": [
    "@profile\n",
    "def save_as(df: pd.DataFrame, file_format: str) -> str:\n",
    "    temp_filename = tempfile.mktemp(dir=TMP_DIR)\n",
    "    if file_format == \"csv\":\n",
    "        df.to_csv(temp_filename, index=False)\n",
    "    elif file_format == \"pickle\":\n",
    "        df.to_pickle(temp_filename)\n",
    "    elif file_format == \"feather\":\n",
    "        df.to_feather(temp_filename)\n",
    "    elif file_format == \"hdf5\":\n",
    "        df.to_hdf(temp_filename, key='df', mode='w')\n",
    "    elif file_format == \"parquet\":\n",
    "        df.to_parquet(temp_filename)\n",
    "    return temp_filename\n",
    "\n",
    "\n",
    "@profile\n",
    "def load_as(temp_filename: str, file_format: str) -> None:\n",
    "    if file_format == \"csv\":\n",
    "        df = pd.read_csv(temp_filename)\n",
    "    elif file_format == \"pickle\":\n",
    "        df = pd.read_pickle(temp_filename)\n",
    "    elif file_format == \"feather\":\n",
    "        df = pd.read_feather(temp_filename)\n",
    "    elif file_format == \"hdf5\":\n",
    "        df = pd.read_hdf(temp_filename, 'df')\n",
    "    elif file_format == \"parquet\":\n",
    "        df = pd.read_parquet(temp_filename)\n",
    "\n",
    "    del(df)\n",
    "    gc.collect()\n",
    "    os.remove(temp_filename)\n",
    "\n",
    "\n",
    "def get_filesize(filepath: str, size=\"MB\"):\n",
    "    return os.path.getsize(filepath) / SIZE_MAP.get(size, \"MB\")\n"
   ]
  },
  {
   "cell_type": "code",
   "execution_count": 5,
   "metadata": {},
   "outputs": [],
   "source": [
    "GJ_FILEPATH = \"../data/open-nhis-gj-all.csv\"\n",
    "T20_FILEPATH = \"../data/open-nhis-t20-all.csv\""
   ]
  },
  {
   "cell_type": "markdown",
   "metadata": {},
   "source": [
    "## 1. Memory Optimization"
   ]
  },
  {
   "cell_type": "code",
   "execution_count": 6,
   "metadata": {},
   "outputs": [
    {
     "name": "stdout",
     "output_type": "stream",
     "text": [
      "peak memory: 8940.03 MiB, increment: 8847.55 MiB\n",
      "CPU times: user 31 s, sys: 2.37 s, total: 33.4 s\n",
      "Wall time: 33.5 s\n"
     ]
    }
   ],
   "source": [
    "%%time\n",
    "%%memit\n",
    "gj_np = pd.read_csv(GJ_FILEPATH)"
   ]
  },
  {
   "cell_type": "code",
   "execution_count": 7,
   "metadata": {},
   "outputs": [
    {
     "name": "stdout",
     "output_type": "stream",
     "text": [
      "GJ Numpy: 10,442.86 MB\n"
     ]
    }
   ],
   "source": [
    "print(f\"GJ Numpy: {memory_usage_pdobj(gj_np):,.2f} MB\")"
   ]
  },
  {
   "cell_type": "markdown",
   "metadata": {},
   "source": [
    "### 1.1 데이터 형식 변환\n",
    "\n",
    "데이터 형식 변환에 따른 메모리 사용량\n",
    "\n",
    "- 코드북 사용\n",
    "- 파일을 읽을 때 데이터 타입 지정\n",
    "\n",
    "(+) pyarrow 데이터 타입을 지정했을 때 변화"
   ]
  },
  {
   "cell_type": "markdown",
   "metadata": {},
   "source": [
    "#### 코드북 사용"
   ]
  },
  {
   "cell_type": "code",
   "execution_count": 8,
   "metadata": {},
   "outputs": [],
   "source": [
    "CODEBOOK = {\n",
    "    \"SEX\": {1: \"남자\", 2: \"여자\"},\n",
    "    \"SIDO\": {11: \"서울특별시\", 26: \"부산광역시\", 27: \"대구광역시\", 28: \"인천광역시\", 29: \"광주광역시\", 30: \"대전광역시\",\n",
    "             31: \"울산광역시\", 36: \"세종특별자치시\", 42: \"강원도\", 43: \"충청북도\", 44: \"충청남도\", 45: \"전라북도\",\n",
    "             46: \"전라남도\", 47: \"경상북도\", 48: \"경상남도\", 49: \"제주특별자치도\"},\n",
    "    \"HEAR_LEFT\": {1: \"정상\", 2: \"비정상\"},\n",
    "    \"HEAR_RIGHT\": {1: \"정상\", 2: \"비정상\"},\n",
    "    \"SMK_STAT_TYPE_CD\": {1: \"비흡연\", 2: \"금연\", 3: \"흡연\"},\n",
    "    \"DRK_YN\": {0: \"N\", 1: \"Y\"},\n",
    "}\n",
    "\n",
    "CODEBOOK = {col: {v: str(k) for k, v in d.items()} for col, d in CODEBOOK.items()}"
   ]
  },
  {
   "cell_type": "code",
   "execution_count": 9,
   "metadata": {},
   "outputs": [
    {
     "name": "stdout",
     "output_type": "stream",
     "text": [
      "peak memory: 12562.86 MiB, increment: 3667.71 MiB\n",
      "CPU times: user 14.3 s, sys: 996 ms, total: 15.3 s\n",
      "Wall time: 15.4 s\n"
     ]
    }
   ],
   "source": [
    "%%time\n",
    "%%memit\n",
    "gj_np = gj_np.replace(CODEBOOK)"
   ]
  },
  {
   "cell_type": "code",
   "execution_count": 10,
   "metadata": {},
   "outputs": [
    {
     "name": "stdout",
     "output_type": "stream",
     "text": [
      "GJ Numpy: 8,005.85 MB\n"
     ]
    }
   ],
   "source": [
    "print(f\"GJ Numpy: {memory_usage_pdobj(gj_np):,.2f} MB\") \n",
    "# print(f\"GJ PyArrow: {memory_usage_pdobj(gj_pa):,.2f} MB\") "
   ]
  },
  {
   "cell_type": "markdown",
   "metadata": {},
   "source": [
    "#### 데이터 타입 지정"
   ]
  },
  {
   "cell_type": "code",
   "execution_count": 11,
   "metadata": {},
   "outputs": [],
   "source": [
    "GJ_USECOLS = [\"HCHK_YEAR\", \"IDV_ID\", \"SEX\", \"AGE_GROUP\", \"SIDO\", \"HEIGHT\", \"WEIGHT\", \"SIGHT_LEFT\", \"SIGHT_RIGHT\",\n",
    "              \"HEAR_LEFT\", \"HEAR_RIGHT\", \"BP_HIGH\", \"BP_LWST\", \"BLDS\", \"TOT_CHOLE\", \"HMG\", \"OLIG_PROTE_CD\",\n",
    "              \"SGOT_AST\", \"SGPT_ALT\", \"GAMMA_GTP\", \"SMK_STAT_TYPE_CD\", \"DRK_YN\"]\n",
    "\n",
    "# 2.0부터는 data type으로 float8, float16 사용 못함\n",
    "GJ_DTYPES_NP = {\n",
    "    \"HCHK_YEAR\": \"int16\",\n",
    "    \"IDV_ID\": \"int32\",\n",
    "    \"SEX\": \"category\",\n",
    "    \"AGE_GROUP\": \"category\",\n",
    "    \"SIDO\": \"category\",\n",
    "    \"HEIGHT\": \"float32\",\n",
    "    \"WEIGHT\": \"float32\",\n",
    "    \"SIGHT_LEFT\": \"category\",\n",
    "    \"SIGHT_RIGHT\": \"category\",\n",
    "    \"HEAR_LEFT\": \"category\",\n",
    "    \"HEAR_RIGHT\": \"category\",\n",
    "    \"BP_HIGH\": \"float32\",\n",
    "    \"BP_LWST\": \"float32\",\n",
    "    \"BLDS\": \"float32\",\n",
    "    \"TOT_CHOLE\": \"float32\",\n",
    "    \"HMG\": \"float32\",\n",
    "    \"OLIG_PROTE_CD\": \"float32\",\n",
    "    \"SGOT_AST\": \"float32\",\n",
    "    \"SGPT_ALT\": \"float32\",\n",
    "    \"GAMMA_GTP\": \"float32\",\n",
    "    \"SMK_STAT_TYPE_CD\": \"category\",\n",
    "    \"DRK_YN\": \"category\",\n",
    "}\n",
    "\n",
    "GJ_DTYPES_PA = {k: v + \"[pyarrow]\" if v.startswith((\"int\", \"float\")) else v for k, v in GJ_DTYPES_NP.items()}"
   ]
  },
  {
   "cell_type": "code",
   "execution_count": 12,
   "metadata": {},
   "outputs": [
    {
     "name": "stdout",
     "output_type": "stream",
     "text": [
      "peak memory: 10406.35 MiB, increment: 820.91 MiB\n",
      "CPU times: user 33.3 s, sys: 1.27 s, total: 34.6 s\n",
      "Wall time: 34.7 s\n"
     ]
    }
   ],
   "source": [
    "%%time\n",
    "%%memit\n",
    "gj_np = pd.read_csv(GJ_FILEPATH, dtype=GJ_DTYPES_NP)"
   ]
  },
  {
   "cell_type": "code",
   "execution_count": 13,
   "metadata": {},
   "outputs": [
    {
     "name": "stdout",
     "output_type": "stream",
     "text": [
      "GJ Numpy: 1,062.77 MB\n"
     ]
    }
   ],
   "source": [
    "print(f\"GJ Numpy: {memory_usage_pdobj(gj_np):,.2f} MB\")"
   ]
  },
  {
   "cell_type": "markdown",
   "metadata": {},
   "source": [
    "### 1.2 파일 포맷에 따른 처리시간, 메모리사용량, 파일크기 비교\n",
    "csv, pickle, feather, hdf5, parquet 포맷간 비교분석\n",
    "- 읽기/쓰기 시간 비교\n",
    "- IO 시에 메모리 사용량 비교\n",
    "- 저장된 파일의 크기 비교\n",
    "\n",
    "(+) pyarrow 데이터 타입을 지정했을 때 변화"
   ]
  },
  {
   "cell_type": "code",
   "execution_count": 14,
   "metadata": {},
   "outputs": [],
   "source": [
    "gj_np = pd.read_csv(GJ_FILEPATH)"
   ]
  },
  {
   "cell_type": "code",
   "execution_count": 15,
   "metadata": {},
   "outputs": [
    {
     "name": "stdout",
     "output_type": "stream",
     "text": [
      "\n",
      "\n",
      "=== csv ===\n",
      "[save_as]\n",
      "Elapsed Time: 271.642 seconds,\n",
      "Peak Memory: 11,625.15 MB,\n",
      "Increment Memory: 0.43 MB\n",
      "File size: 2,175.33 MB\n",
      "[load_as]\n",
      "Elapsed Time: 36.749 seconds,\n",
      "Peak Memory: 12,054.47 MB,\n",
      "Increment Memory: 429.32 MB\n",
      "\n",
      "\n",
      "=== pickle ===\n",
      "[save_as]\n",
      "Elapsed Time: 5.543 seconds,\n",
      "Peak Memory: 12,054.53 MB,\n",
      "Increment Memory: 0.06 MB\n",
      "File size: 2,928.58 MB\n",
      "[load_as]\n",
      "Elapsed Time: 4.473 seconds,\n",
      "Peak Memory: 11,574.78 MB,\n",
      "Increment Memory: -479.75 MB\n",
      "\n",
      "\n",
      "=== feather ===\n",
      "[save_as]\n",
      "Elapsed Time: 4.156 seconds,\n",
      "Peak Memory: 11,792.04 MB,\n",
      "Increment Memory: 217.26 MB\n",
      "File size: 1,068.58 MB\n",
      "[load_as]\n",
      "Elapsed Time: 3.244 seconds,\n",
      "Peak Memory: 15,239.13 MB,\n",
      "Increment Memory: 3,447.09 MB\n",
      "\n",
      "\n",
      "=== parquet ===\n",
      "[save_as]\n",
      "Elapsed Time: 12.099 seconds,\n",
      "Peak Memory: 15,579.09 MB,\n",
      "Increment Memory: 339.96 MB\n",
      "File size: 301.21 MB\n",
      "[load_as]\n",
      "Elapsed Time: 3.160 seconds,\n",
      "Peak Memory: 18,036.66 MB,\n",
      "Increment Memory: 2,457.57 MB\n"
     ]
    }
   ],
   "source": [
    "for file_format in [\"csv\", \"pickle\", \"feather\", \"parquet\"]:\n",
    "    print(f\"\\n\\n=== {file_format} ===\")\n",
    "    temp = save_as(gj_np, file_format)\n",
    "    print(f\"File size: {get_filesize(temp):,.2f} MB\")\n",
    "    load_as(temp, file_format)"
   ]
  },
  {
   "cell_type": "markdown",
   "metadata": {},
   "source": [
    "## 2. Performance Optimization"
   ]
  },
  {
   "cell_type": "code",
   "execution_count": 16,
   "metadata": {},
   "outputs": [],
   "source": [
    "import numpy as np\n",
    "try:\n",
    "    import pyarrow as pa\n",
    "except:\n",
    "    pass"
   ]
  },
  {
   "cell_type": "markdown",
   "metadata": {},
   "source": [
    "### 2.1 건강위험지수 산출\n",
    "numeric arithmetic operations의 성능\n",
    "- iteration\n",
    "- np vectorization\n",
    "- pa vectorization"
   ]
  },
  {
   "cell_type": "code",
   "execution_count": 17,
   "metadata": {},
   "outputs": [],
   "source": [
    "SCORING_COLS = ['IDV_ID', 'SEX', 'AGE_GROUP', 'HEIGHT', 'WEIGHT', 'BLDS', 'TOT_CHOLE',\n",
    "                'HMG', 'OLIG_PROTE_CD', 'SGOT_AST', 'SGPT_ALT', 'SMK_STAT_TYPE_CD', 'DRK_YN']\n",
    "\n",
    "\n",
    "def scoring_health_pd(patient):\n",
    "    bmi = ((patient['WEIGHT'] / (patient['HEIGHT']/100)**2) >= 30) * 1  # 체질량(BMI)\n",
    "    blds = (patient['BLDS'] >= 125) * 1  # 공복혈당 BLDS\n",
    "    chole = (patient['TOT_CHOLE'] >= 130) * 1  # 총콜레스테롤 TOT_CHOLE\n",
    "    hmg = (patient['HMG'] < 12) * 1  # 혈색소 HMG\n",
    "    sg = ((patient['SGOT_AST'] >= 40) | (patient['SGPT_ALT'] >= 40)) * 1  # 혈청지오티 SGOT_AST, SGPT_ALT\n",
    "    smoke = (patient['SMK_STAT_TYPE_CD'] == 3) * 1  # 흡연 SMOKE\n",
    "    drink = (patient['DRK_YN'] == 1) * 1 # 음주 DRINK\n",
    "    \n",
    "    patient_score = np.sum([bmi, blds, chole, hmg, sg, smoke, drink], axis=0)\n",
    "    return patient_score\n",
    "\n",
    "\n",
    "def scoring_health_np(patient):\n",
    "    bmi = ((patient['WEIGHT'].values / (patient['HEIGHT'].values/100)**2) >= 30) * 1  # 체질량(BMI)\n",
    "    blds = (patient['BLDS'].values >= 125) * 1  # 공복혈당 BLDS\n",
    "    chole = (patient['TOT_CHOLE'].values >= 130) * 1  # 총콜레스테롤 TOT_CHOLE\n",
    "    hmg = (patient['HMG'].values < 12) * 1  # 혈색소 HMG\n",
    "    sg = ((patient['SGOT_AST'].values >= 40) | (patient['SGPT_ALT'].values >= 40)) * 1  # 혈청지오티 SGOT_AST, SGPT_ALT\n",
    "    smoke = (patient['SMK_STAT_TYPE_CD'].values == 3) * 1  # 흡연 SMOKE\n",
    "    drink = (patient['DRK_YN'].values == 1) * 1 # 음주 DRINK\n",
    "    \n",
    "    patient_score = np.sum([bmi, blds, chole, hmg, sg, smoke, drink], axis=0)\n",
    "    return patient_score"
   ]
  },
  {
   "cell_type": "code",
   "execution_count": 18,
   "metadata": {},
   "outputs": [
    {
     "name": "stdout",
     "output_type": "stream",
     "text": [
      "peak memory: 17514.19 MiB, increment: 313.14 MiB\n",
      "CPU times: user 35.5 s, sys: 2.16 s, total: 37.7 s\n",
      "Wall time: 37.9 s\n"
     ]
    }
   ],
   "source": [
    "%%time\n",
    "%%memit\n",
    "gj_np = pd.read_csv(GJ_FILEPATH, usecols=SCORING_COLS, dtype=GJ_DTYPES_NP)\n",
    "gj_np = gj_np.replace(CODEBOOK).fillna(method=\"bfill\")"
   ]
  },
  {
   "cell_type": "markdown",
   "metadata": {},
   "source": [
    "#### Iteration using `iterrows()`"
   ]
  },
  {
   "cell_type": "code",
   "execution_count": 19,
   "metadata": {},
   "outputs": [
    {
     "name": "stdout",
     "output_type": "stream",
     "text": [
      "CPU times: user 28min 9s, sys: 7.88 s, total: 28min 17s\n",
      "Wall time: 28min 17s\n"
     ]
    }
   ],
   "source": [
    "%%time\n",
    "scores_itterrows = []\n",
    "for _, patient in gj_np.iterrows():\n",
    "    patient_score = scoring_health_pd(patient)\n",
    "    scores_itterrows.append(patient_score)"
   ]
  },
  {
   "cell_type": "markdown",
   "metadata": {},
   "source": [
    "#### Iteration using `.apply()`"
   ]
  },
  {
   "cell_type": "code",
   "execution_count": 20,
   "metadata": {},
   "outputs": [
    {
     "name": "stdout",
     "output_type": "stream",
     "text": [
      "peak memory: 27326.79 MiB, increment: 10059.64 MiB\n",
      "CPU times: user 28min 39s, sys: 10.1 s, total: 28min 49s\n",
      "Wall time: 28min 49s\n"
     ]
    }
   ],
   "source": [
    "%%time\n",
    "%%memit\n",
    "scores_apply = gj_np.apply(scoring_health_pd, axis=1)"
   ]
  },
  {
   "cell_type": "markdown",
   "metadata": {},
   "source": [
    "#### Vectorization with `pd.Series`"
   ]
  },
  {
   "cell_type": "code",
   "execution_count": 21,
   "metadata": {},
   "outputs": [
    {
     "name": "stdout",
     "output_type": "stream",
     "text": [
      "peak memory: 20099.47 MiB, increment: 997.70 MiB\n",
      "CPU times: user 2.13 s, sys: 516 ms, total: 2.64 s\n",
      "Wall time: 2.77 s\n"
     ]
    }
   ],
   "source": [
    "%%time\n",
    "%%memit\n",
    "scores_pd = scoring_health_pd(gj_np)"
   ]
  },
  {
   "cell_type": "markdown",
   "metadata": {},
   "source": [
    "#### Vectorization with `np.array`"
   ]
  },
  {
   "cell_type": "code",
   "execution_count": 22,
   "metadata": {},
   "outputs": [
    {
     "name": "stdout",
     "output_type": "stream",
     "text": [
      "peak memory: 20153.23 MiB, increment: 1052.08 MiB\n",
      "CPU times: user 1.1 s, sys: 470 ms, total: 1.57 s\n",
      "Wall time: 1.68 s\n"
     ]
    }
   ],
   "source": [
    "%%time\n",
    "%%memit\n",
    "scores_np = scoring_health_np(gj_np)"
   ]
  },
  {
   "cell_type": "markdown",
   "metadata": {},
   "source": [
    "#### Python List, NumPy Array"
   ]
  },
  {
   "cell_type": "code",
   "execution_count": 23,
   "metadata": {},
   "outputs": [
    {
     "name": "stdout",
     "output_type": "stream",
     "text": [
      "peak memory: 19457.78 MiB, increment: 211.64 MiB\n",
      "CPU times: user 3.02 s, sys: 469 ms, total: 3.49 s\n",
      "Wall time: 3.61 s\n"
     ]
    }
   ],
   "source": [
    "%%time\n",
    "%%memit\n",
    "# Python List\n",
    "weight_py = gj_np[\"WEIGHT\"].tolist()\n",
    "height_py = gj_np[\"HEIGHT\"].tolist()\n",
    "\n",
    "bmi_py = list(map(lambda a, b: a / (b/100)**2, weight_py, height_py))"
   ]
  },
  {
   "cell_type": "code",
   "execution_count": 24,
   "metadata": {},
   "outputs": [
    {
     "name": "stdout",
     "output_type": "stream",
     "text": [
      "peak memory: 19308.57 MiB, increment: 0.02 MiB\n",
      "CPU times: user 650 ms, sys: 111 ms, total: 761 ms\n",
      "Wall time: 873 ms\n"
     ]
    }
   ],
   "source": [
    "%%time\n",
    "%%memit\n",
    "# Numpy Array\n",
    "weight_np = gj_np[\"WEIGHT\"].values\n",
    "height_np = gj_np[\"HEIGHT\"].values\n",
    "\n",
    "bmi_np = np.divide(weight_np, np.power(np.divide(height_np, 100), 2))"
   ]
  },
  {
   "cell_type": "markdown",
   "metadata": {},
   "source": [
    "### 2.2 병원 비용이 높은 최상위 진료내역서 5개"
   ]
  },
  {
   "cell_type": "code",
   "execution_count": 25,
   "metadata": {},
   "outputs": [],
   "source": [
    "T20_DTYPES_NP = {\n",
    "    \"STND_Y\": \"int16\",\n",
    "    \"IDV_ID\": \"int32\",\n",
    "    \"KEY_SEQ\": \"int32\",\n",
    "    \"SEX\": \"category\",\n",
    "    \"AGE_GROUP\": \"category\",\n",
    "    \"SIDO\": \"category\",\n",
    "    \"RECU_FR_DT\": \"object\",\n",
    "    \"MAIN_SICK\": \"category\",\n",
    "    \"SUB_SICK\": \"category\",\n",
    "    \"VSCN\": \"int16\",\n",
    "    \"EDEC_ADD_RT\": \"float32\",\n",
    "    \"EDEC_TRAMT\": \"int32\",\n",
    "    \"EDEC_SBRDN_AMT\": \"int32\",\n",
    "    \"EDEC_JBRDN_AMT\": \"int32\",\n",
    "}\n",
    "\n",
    "T20_DTYPES_PA = {k: v + \"[pyarrow]\" if v.startswith((\"int\", \"float\", \"string\")) else v for k, v in T20_DTYPES_NP.items()}"
   ]
  },
  {
   "cell_type": "code",
   "execution_count": 26,
   "metadata": {},
   "outputs": [
    {
     "name": "stdout",
     "output_type": "stream",
     "text": [
      "peak memory: 34067.69 MiB, increment: 14975.31 MiB\n",
      "CPU times: user 5min 17s, sys: 28.1 s, total: 5min 45s\n",
      "Wall time: 5min 48s\n"
     ]
    }
   ],
   "source": [
    "%%time\n",
    "%%memit\n",
    "t20_np = pd.read_csv(T20_FILEPATH, dtype=T20_DTYPES_NP)\n",
    "t20_np = t20_np.replace(CODEBOOK)"
   ]
  },
  {
   "cell_type": "markdown",
   "metadata": {},
   "source": [
    "#### `sorting -> head`"
   ]
  },
  {
   "cell_type": "code",
   "execution_count": 27,
   "metadata": {},
   "outputs": [
    {
     "name": "stdout",
     "output_type": "stream",
     "text": [
      "peak memory: 33684.78 MiB, increment: 6997.25 MiB\n",
      "CPU times: user 18.8 s, sys: 3.22 s, total: 22 s\n",
      "Wall time: 22.1 s\n"
     ]
    }
   ],
   "source": [
    "%%time\n",
    "%%memit\n",
    "result_np = t20_np[\"EDEC_TRAMT\"].sort_values(ascending=False).head(5)"
   ]
  },
  {
   "cell_type": "markdown",
   "metadata": {},
   "source": [
    "#### `nlargest`"
   ]
  },
  {
   "cell_type": "code",
   "execution_count": 28,
   "metadata": {},
   "outputs": [
    {
     "name": "stdout",
     "output_type": "stream",
     "text": [
      "peak memory: 33743.02 MiB, increment: 3523.82 MiB\n",
      "CPU times: user 1.58 s, sys: 1.15 s, total: 2.73 s\n",
      "Wall time: 2.87 s\n"
     ]
    }
   ],
   "source": [
    "%%time\n",
    "%%memit\n",
    "result_np = t20_np[\"EDEC_TRAMT\"].nlargest(5)"
   ]
  },
  {
   "cell_type": "markdown",
   "metadata": {},
   "source": [
    "### 2.3 건강위험지수 5 이상인 사람들의 진료내역 추출\n",
    "filtering operation의 성능\n",
    "- list comprehension\n",
    "- apply\n",
    "- pd isin\n",
    "- pd query\n",
    "- np isin\n",
    "- pd merge\n",
    "- pa ???\n",
    "\n",
    "(+) pyarrow 데이터 타입을 지정했을 때 변화"
   ]
  },
  {
   "cell_type": "code",
   "execution_count": 29,
   "metadata": {},
   "outputs": [
    {
     "data": {
      "text/html": [
       "<div>\n",
       "<style scoped>\n",
       "    .dataframe tbody tr th:only-of-type {\n",
       "        vertical-align: middle;\n",
       "    }\n",
       "\n",
       "    .dataframe tbody tr th {\n",
       "        vertical-align: top;\n",
       "    }\n",
       "\n",
       "    .dataframe thead th {\n",
       "        text-align: right;\n",
       "    }\n",
       "</style>\n",
       "<table border=\"1\" class=\"dataframe\">\n",
       "  <thead>\n",
       "    <tr style=\"text-align: right;\">\n",
       "      <th></th>\n",
       "      <th>IDV_ID</th>\n",
       "      <th>SEX</th>\n",
       "      <th>AGE_GROUP</th>\n",
       "      <th>HEIGHT</th>\n",
       "      <th>WEIGHT</th>\n",
       "      <th>BLDS</th>\n",
       "      <th>TOT_CHOLE</th>\n",
       "      <th>HMG</th>\n",
       "      <th>OLIG_PROTE_CD</th>\n",
       "      <th>SGOT_AST</th>\n",
       "      <th>SGPT_ALT</th>\n",
       "      <th>SMK_STAT_TYPE_CD</th>\n",
       "      <th>DRK_YN</th>\n",
       "    </tr>\n",
       "  </thead>\n",
       "  <tbody>\n",
       "    <tr>\n",
       "      <th>0</th>\n",
       "      <td>725578</td>\n",
       "      <td>2</td>\n",
       "      <td>1</td>\n",
       "      <td>140.0</td>\n",
       "      <td>45.0</td>\n",
       "      <td>91.0</td>\n",
       "      <td>216.0</td>\n",
       "      <td>13.4</td>\n",
       "      <td>1.0</td>\n",
       "      <td>20.0</td>\n",
       "      <td>11.0</td>\n",
       "      <td>1</td>\n",
       "      <td>1</td>\n",
       "    </tr>\n",
       "    <tr>\n",
       "      <th>1</th>\n",
       "      <td>118183</td>\n",
       "      <td>2</td>\n",
       "      <td>1</td>\n",
       "      <td>145.0</td>\n",
       "      <td>35.0</td>\n",
       "      <td>75.0</td>\n",
       "      <td>162.0</td>\n",
       "      <td>13.0</td>\n",
       "      <td>1.0</td>\n",
       "      <td>26.0</td>\n",
       "      <td>12.0</td>\n",
       "      <td>1</td>\n",
       "      <td>1</td>\n",
       "    </tr>\n",
       "    <tr>\n",
       "      <th>2</th>\n",
       "      <td>667818</td>\n",
       "      <td>2</td>\n",
       "      <td>1</td>\n",
       "      <td>145.0</td>\n",
       "      <td>35.0</td>\n",
       "      <td>85.0</td>\n",
       "      <td>149.0</td>\n",
       "      <td>12.7</td>\n",
       "      <td>1.0</td>\n",
       "      <td>16.0</td>\n",
       "      <td>15.0</td>\n",
       "      <td>1</td>\n",
       "      <td>1</td>\n",
       "    </tr>\n",
       "    <tr>\n",
       "      <th>3</th>\n",
       "      <td>877233</td>\n",
       "      <td>2</td>\n",
       "      <td>1</td>\n",
       "      <td>145.0</td>\n",
       "      <td>40.0</td>\n",
       "      <td>88.0</td>\n",
       "      <td>170.0</td>\n",
       "      <td>12.6</td>\n",
       "      <td>1.0</td>\n",
       "      <td>17.0</td>\n",
       "      <td>10.0</td>\n",
       "      <td>1</td>\n",
       "      <td>1</td>\n",
       "    </tr>\n",
       "    <tr>\n",
       "      <th>4</th>\n",
       "      <td>917332</td>\n",
       "      <td>2</td>\n",
       "      <td>1</td>\n",
       "      <td>145.0</td>\n",
       "      <td>40.0</td>\n",
       "      <td>85.0</td>\n",
       "      <td>242.0</td>\n",
       "      <td>12.2</td>\n",
       "      <td>1.0</td>\n",
       "      <td>9.0</td>\n",
       "      <td>10.0</td>\n",
       "      <td>1</td>\n",
       "      <td>1</td>\n",
       "    </tr>\n",
       "  </tbody>\n",
       "</table>\n",
       "</div>"
      ],
      "text/plain": [
       "   IDV_ID SEX AGE_GROUP  HEIGHT  WEIGHT  BLDS  TOT_CHOLE   HMG  OLIG_PROTE_CD  \\\n",
       "0  725578   2         1   140.0    45.0  91.0      216.0  13.4            1.0   \n",
       "1  118183   2         1   145.0    35.0  75.0      162.0  13.0            1.0   \n",
       "2  667818   2         1   145.0    35.0  85.0      149.0  12.7            1.0   \n",
       "3  877233   2         1   145.0    40.0  88.0      170.0  12.6            1.0   \n",
       "4  917332   2         1   145.0    40.0  85.0      242.0  12.2            1.0   \n",
       "\n",
       "   SGOT_AST  SGPT_ALT SMK_STAT_TYPE_CD DRK_YN  \n",
       "0      20.0      11.0                1      1  \n",
       "1      26.0      12.0                1      1  \n",
       "2      16.0      15.0                1      1  \n",
       "3      17.0      10.0                1      1  \n",
       "4       9.0      10.0                1      1  "
      ]
     },
     "execution_count": 29,
     "metadata": {},
     "output_type": "execute_result"
    }
   ],
   "source": [
    "gj_np.head()"
   ]
  },
  {
   "cell_type": "code",
   "execution_count": 30,
   "metadata": {},
   "outputs": [
    {
     "name": "stdout",
     "output_type": "stream",
     "text": [
      "Number of patients scoring above 5 : 940\n"
     ]
    }
   ],
   "source": [
    "PATIENTS = gj_np[scores_np >= 5][\"IDV_ID\"].unique().tolist()\n",
    "print(f\"Number of patients scoring above 5 : {len(PATIENTS):,}\")"
   ]
  },
  {
   "cell_type": "markdown",
   "metadata": {},
   "source": [
    "#### List Comprehension"
   ]
  },
  {
   "cell_type": "code",
   "execution_count": 31,
   "metadata": {},
   "outputs": [
    {
     "name": "stdout",
     "output_type": "stream",
     "text": [
      "peak memory: 37716.23 MiB, increment: 9433.26 MiB\n",
      "CPU times: user 29min 49s, sys: 11.5 s, total: 30min 1s\n",
      "Wall time: 30min 1s\n"
     ]
    }
   ],
   "source": [
    "%%time\n",
    "%%memit\n",
    "tmp = t20_np[[x in PATIENTS for x in t20_np[\"IDV_ID\"]]][[\"IDV_ID\"]]"
   ]
  },
  {
   "cell_type": "markdown",
   "metadata": {},
   "source": [
    "#### `pd.DataFrame.isin()`"
   ]
  },
  {
   "cell_type": "code",
   "execution_count": 32,
   "metadata": {},
   "outputs": [
    {
     "name": "stdout",
     "output_type": "stream",
     "text": [
      "CPU times: user 40.5 s, sys: 8.04 s, total: 48.5 s\n",
      "Wall time: 48.5 s\n"
     ]
    }
   ],
   "source": [
    "%%time\n",
    "tmp = t20_np[t20_np.isin({\"IDV_ID\": PATIENTS})[\"IDV_ID\"]][[\"IDV_ID\"]]"
   ]
  },
  {
   "cell_type": "markdown",
   "metadata": {},
   "source": [
    "#### `pd.DataFrame.query()`"
   ]
  },
  {
   "cell_type": "code",
   "execution_count": 33,
   "metadata": {},
   "outputs": [
    {
     "name": "stdout",
     "output_type": "stream",
     "text": [
      "CPU times: user 21.6 s, sys: 2.86 s, total: 24.5 s\n",
      "Wall time: 24.5 s\n"
     ]
    }
   ],
   "source": [
    "%%time\n",
    "tmp = t20_np[[\"IDV_ID\"]].query(\"IDV_ID in @PATIENTS\")"
   ]
  },
  {
   "cell_type": "markdown",
   "metadata": {},
   "source": [
    "#### `pd.DataFrame.apply()`"
   ]
  },
  {
   "cell_type": "code",
   "execution_count": 34,
   "metadata": {},
   "outputs": [
    {
     "name": "stdout",
     "output_type": "stream",
     "text": [
      "CPU times: user 29min 45s, sys: 9.91 s, total: 29min 55s\n",
      "Wall time: 2h 16min 33s\n"
     ]
    }
   ],
   "source": [
    "%%time\n",
    "tmp = t20_np[t20_np[\"IDV_ID\"].apply(lambda x: x in PATIENTS)][[\"IDV_ID\"]]"
   ]
  },
  {
   "cell_type": "markdown",
   "metadata": {},
   "source": [
    "#### `np.isin()`"
   ]
  },
  {
   "cell_type": "code",
   "execution_count": 35,
   "metadata": {},
   "outputs": [
    {
     "name": "stdout",
     "output_type": "stream",
     "text": [
      "CPU times: user 19.7 s, sys: 1.51 s, total: 21.2 s\n",
      "Wall time: 21.2 s\n"
     ]
    }
   ],
   "source": [
    "%%time\n",
    "tmp = t20_np[np.isin(t20_np[\"IDV_ID\"].values, PATIENTS)][[\"IDV_ID\"]]"
   ]
  },
  {
   "cell_type": "markdown",
   "metadata": {},
   "source": [
    "#### `pd.DataFrame.merge()`\n"
   ]
  },
  {
   "cell_type": "code",
   "execution_count": 36,
   "metadata": {},
   "outputs": [
    {
     "name": "stdout",
     "output_type": "stream",
     "text": [
      "CPU times: user 6.37 s, sys: 1.48 s, total: 7.86 s\n",
      "Wall time: 7.86 s\n"
     ]
    }
   ],
   "source": [
    "%%time\n",
    "tmp = t20_np.merge(pd.Series(PATIENTS, name='IDV_ID'), how='inner', on='IDV_ID')"
   ]
  }
 ],
 "metadata": {
  "kernelspec": {
   "display_name": "py311-pd2",
   "language": "python",
   "name": "python3"
  },
  "language_info": {
   "codemirror_mode": {
    "name": "ipython",
    "version": 3
   },
   "file_extension": ".py",
   "mimetype": "text/x-python",
   "name": "python",
   "nbconvert_exporter": "python",
   "pygments_lexer": "ipython3",
   "version": "3.6.13"
  },
  "orig_nbformat": 4
 },
 "nbformat": 4,
 "nbformat_minor": 2
}
