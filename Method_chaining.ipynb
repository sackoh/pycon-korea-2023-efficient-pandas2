{
 "cells": [
  {
   "cell_type": "code",
   "execution_count": 1,
   "metadata": {},
   "outputs": [
    {
     "name": "stdout",
     "output_type": "stream",
     "text": [
      "Requirement already satisfied: pandas==2.0.3 in /Users/davidoh/opt/anaconda3/envs/py311-pd2/lib/python3.11/site-packages (2.0.3)\n",
      "Requirement already satisfied: python-dateutil>=2.8.2 in /Users/davidoh/opt/anaconda3/envs/py311-pd2/lib/python3.11/site-packages (from pandas==2.0.3) (2.8.2)\n",
      "Requirement already satisfied: pytz>=2020.1 in /Users/davidoh/opt/anaconda3/envs/py311-pd2/lib/python3.11/site-packages (from pandas==2.0.3) (2023.3)\n",
      "Requirement already satisfied: tzdata>=2022.1 in /Users/davidoh/opt/anaconda3/envs/py311-pd2/lib/python3.11/site-packages (from pandas==2.0.3) (2023.3)\n",
      "Requirement already satisfied: numpy>=1.21.0 in /Users/davidoh/opt/anaconda3/envs/py311-pd2/lib/python3.11/site-packages (from pandas==2.0.3) (1.25.1)\n",
      "Requirement already satisfied: six>=1.5 in /Users/davidoh/opt/anaconda3/envs/py311-pd2/lib/python3.11/site-packages (from python-dateutil>=2.8.2->pandas==2.0.3) (1.16.0)\n"
     ]
    }
   ],
   "source": [
    "!pip install pandas==2.0.3"
   ]
  },
  {
   "cell_type": "code",
   "execution_count": 2,
   "metadata": {},
   "outputs": [],
   "source": [
    "import numpy as np\n",
    "import pandas as pd\n",
    "\n",
    "%load_ext memory_profiler"
   ]
  },
  {
   "cell_type": "code",
   "execution_count": 3,
   "metadata": {},
   "outputs": [],
   "source": [
    "GJ_DTYPES = {\n",
    "    \"HCHK_YEAR\": \"int16\",\n",
    "    \"IDV_ID\": \"int32\",\n",
    "    \"SEX\": \"category\",\n",
    "    \"AGE_GROUP\": \"category\",\n",
    "    \"SIDO\": \"category\",\n",
    "    \"HEIGHT\": \"float32\",\n",
    "    \"WEIGHT\": \"float32\",\n",
    "    \"SIGHT_LEFT\": \"float32\",\n",
    "    \"SIGHT_RIGHT\": \"float32\",\n",
    "    \"HEAR_LEFT\": \"category\",\n",
    "    \"HEAR_RIGHT\": \"category\",\n",
    "    \"BP_HIGH\": \"float32\",\n",
    "    \"BP_LWST\": \"float32\",\n",
    "    \"BLDS\": \"float32\",\n",
    "    \"TOT_CHOLE\": \"float32\",\n",
    "    \"HMG\": \"float32\",\n",
    "    \"OLIG_PROTE_CD\": \"float32\",\n",
    "    \"SGOT_AST\": \"float32\",\n",
    "    \"SGPT_ALT\": \"float32\",\n",
    "    \"GAMMA_GTP\": \"float32\",\n",
    "    \"SMK_STAT_TYPE_CD\": \"category\",\n",
    "    \"DRK_YN\": \"category\",\n",
    "}\n",
    "\n",
    "CODEBOOK = {\n",
    "    \"SEX\": {1: \"남자\", 2: \"여자\"},\n",
    "    \"SIDO\": {11: \"서울특별시\", 26: \"부산광역시\", 27: \"대구광역시\", 28: \"인천광역시\", 29: \"광주광역시\", 30: \"대전광역시\",\n",
    "             31: \"울산광역시\", 36: \"세종특별자치시\", 42: \"강원도\", 43: \"충청북도\", 44: \"충청남도\", 45: \"전라북도\",\n",
    "             46: \"전라남도\", 47: \"경상북도\", 48: \"경상남도\", 49: \"제주특별자치도\"},\n",
    "    \"HEAR_LEFT\": {1: \"정상\", 2: \"비정상\"},\n",
    "    \"HEAR_RIGHT\": {1: \"정상\", 2: \"비정상\"},\n",
    "    \"SMK_STAT_TYPE_CD\": {1: \"비흡연\", 2: \"금연\", 3: \"흡연\"},\n",
    "    \"DRK_YN\": {0: \"N\", 1: \"Y\"},\n",
    "}\n",
    "\n",
    "CODEBOOK = {col: {v: str(k) for k, v in d.items()} for col, d in CODEBOOK.items()}\n",
    "GJ_DTYPES_PA = {k: v + \"[pyarrow]\" if v.startswith((\"int\", \"float\")) else v for k, v in GJ_DTYPES.items()}\n",
    "\n",
    "\n",
    "def scoring_health(patient):\n",
    "    bmi = ((patient['WEIGHT'] / (patient['HEIGHT']/100)**2) >= 30) * 1  # 체질량(BMI)\n",
    "    blds = (patient['BLDS'] >= 125) * 1  # 공복혈당 BLDS\n",
    "    chole = (patient['TOT_CHOLE'] >= 130) * 1  # 총콜레스테롤 TOT_CHOLE\n",
    "    hmg = (patient['HMG'] < 12) * 1  # 혈색소 HMG\n",
    "    sg = ((patient['SGOT_AST'] >= 40) | (patient['SGPT_ALT'] >= 40)) * 1  # 혈청지오티 SGOT_AST, SGPT_ALT\n",
    "    smoke = (patient['SMK_STAT_TYPE_CD'] == 3) * 1  # 흡연 SMOKE\n",
    "    drink = (patient['DRK_YN'] == 1) * 1 # 음주 DRINK\n",
    "    \n",
    "    patient_score = np.sum([bmi, blds, chole, hmg, sg, smoke, drink], axis=0)\n",
    "    return patient_score"
   ]
  },
  {
   "cell_type": "code",
   "execution_count": 4,
   "metadata": {},
   "outputs": [
    {
     "name": "stdout",
     "output_type": "stream",
     "text": [
      "     평균 건강 점수\n",
      "SEX          \n",
      "1    1.395252\n",
      "2    1.292970\n",
      "peak memory: 10325.75 MiB, increment: 10196.98 MiB\n",
      "CPU times: user 17.8 s, sys: 5.27 s, total: 23.1 s\n",
      "Wall time: 6.39 s\n"
     ]
    }
   ],
   "source": [
    "%%time\n",
    "%%memit\n",
    "\n",
    "df = pd.read_csv('../data/open-nhis-gj-all.csv', engine='pyarrow')\n",
    "df = df.pipe(lambda df: df[df[\"HCHK_YEAR\"]==2018])\n",
    "df.replace(CODEBOOK, inplace=True)\n",
    "df = df.fillna(method='bfill').astype(GJ_DTYPES, errors='ignore')\n",
    "df = df.assign(SCORE=lambda df: scoring_health(df))\n",
    "df.query(\"SCORE >= 1\", inplace=True)\n",
    "df = df.groupby([\"SEX\"]).agg({\"SCORE\": \"mean\"})\n",
    "df = df.rename(columns={\"SCORE\": \"평균 건강 점수\"})\n",
    "print(df)"
   ]
  },
  {
   "cell_type": "code",
   "execution_count": 5,
   "metadata": {},
   "outputs": [
    {
     "name": "stdout",
     "output_type": "stream",
     "text": [
      "     평균 건강 점수\n",
      "SEX          \n",
      "1    1.406731\n",
      "2    1.296927\n",
      "peak memory: 7657.24 MiB, increment: 29.63 MiB\n",
      "CPU times: user 251 ms, sys: 318 ms, total: 569 ms\n",
      "Wall time: 645 ms\n"
     ]
    }
   ],
   "source": [
    "%%time\n",
    "%%memit\n",
    "df = (pd\n",
    "      .read_csv('../data/open-nhis-gj-small.csv', engine='pyarrow')\n",
    "      .pipe(lambda df: df[df[\"HCHK_YEAR\"]==2018])\n",
    "      .replace(CODEBOOK)\n",
    "      .fillna(method='bfill')\n",
    "      .astype(GJ_DTYPES, errors='ignore')\n",
    "      .assign(SCORE=lambda df: scoring_health(df))\n",
    "      .query(\"SCORE >= 1\")\n",
    "      .groupby([\"SEX\"])\n",
    "      .agg({\"SCORE\": \"mean\"})\n",
    "      .rename(columns={\"SCORE\": \"평균 건강 점수\"})\n",
    "      )\n",
    "print(df)"
   ]
  }
 ],
 "metadata": {
  "kernelspec": {
   "display_name": "py311-pd2",
   "language": "python",
   "name": "python3"
  },
  "language_info": {
   "codemirror_mode": {
    "name": "ipython",
    "version": 3
   },
   "file_extension": ".py",
   "mimetype": "text/x-python",
   "name": "python",
   "nbconvert_exporter": "python",
   "pygments_lexer": "ipython3",
   "version": "3.11.4"
  },
  "orig_nbformat": 4
 },
 "nbformat": 4,
 "nbformat_minor": 2
}
