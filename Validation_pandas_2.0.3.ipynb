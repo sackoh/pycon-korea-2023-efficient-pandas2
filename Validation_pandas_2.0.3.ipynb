{
 "cells": [
  {
   "cell_type": "code",
   "execution_count": 1,
   "metadata": {},
   "outputs": [],
   "source": [
    "import os\n",
    "import gc\n",
    "import time\n",
    "import tempfile\n",
    "import warnings\n",
    "import functools\n",
    "warnings.filterwarnings(action='ignore')\n",
    "\n",
    "import pandas as pd\n",
    "\n",
    "from memory_profiler import memory_usage\n",
    "\n",
    "%load_ext memory_profiler"
   ]
  },
  {
   "cell_type": "code",
   "execution_count": 2,
   "metadata": {},
   "outputs": [
    {
     "data": {
      "text/plain": [
       "'2.0.3'"
      ]
     },
     "execution_count": 2,
     "metadata": {},
     "output_type": "execute_result"
    }
   ],
   "source": [
    "pd.__version__"
   ]
  },
  {
   "cell_type": "code",
   "execution_count": 3,
   "metadata": {},
   "outputs": [],
   "source": [
    "TMP_DIR = \"./tmp\"\n",
    "os.makedirs(TMP_DIR, exist_ok=True)\n",
    "\n",
    "SIZE_MAP = {\n",
    "    \"KB\": 1024 ** 1,\n",
    "    \"MB\": 1024 ** 2,\n",
    "    \"GB\": 1024 ** 3,\n",
    "}\n",
    "\n",
    "\n",
    "def profile(func):\n",
    "    @functools.wraps(func)\n",
    "    def wrapper(*args, **kwargs):\n",
    "        start_time = time.time()\n",
    "        initial_memory = memory_usage()[0]\n",
    "        result = func(*args, **kwargs)\n",
    "        peak_memory = max(memory_usage())\n",
    "        increment_memory = peak_memory - initial_memory\n",
    "        end_time = time.time()\n",
    "        print(f\"[{func.__name__}]\\nElapsed Time: {end_time - start_time:,.3f} seconds,\\nPeak Memory: {peak_memory*1.04858:,.2f} MB,\\nIncrement Memory: {increment_memory*1.04858:,.2f} MB\")\n",
    "        return result\n",
    "    return wrapper\n",
    "\n",
    "\n",
    "def memory_usage_pdobj(pdobj, size=\"MB\"):\n",
    "    return pdobj.memory_usage(deep=True).sum() / SIZE_MAP.get(size, \"MB\")"
   ]
  },
  {
   "cell_type": "code",
   "execution_count": 4,
   "metadata": {},
   "outputs": [],
   "source": [
    "@profile\n",
    "def save_as(df: pd.DataFrame, file_format: str) -> str:\n",
    "    temp_filename = tempfile.mktemp(dir=TMP_DIR)\n",
    "    if file_format == \"csv\":\n",
    "        df.to_csv(temp_filename, index=False)\n",
    "    elif file_format == \"pickle\":\n",
    "        df.to_pickle(temp_filename)\n",
    "    elif file_format == \"feather\":\n",
    "        df.to_feather(temp_filename)\n",
    "    elif file_format == \"hdf5\":\n",
    "        df.to_hdf(temp_filename, key='df', mode='w')\n",
    "    elif file_format == \"parquet\":\n",
    "        df.to_parquet(temp_filename)\n",
    "    return temp_filename\n",
    "\n",
    "\n",
    "@profile\n",
    "def load_as(temp_filename: str, file_format: str) -> None:\n",
    "    if file_format == \"csv\":\n",
    "        df = pd.read_csv(temp_filename)\n",
    "    elif file_format == \"pickle\":\n",
    "        df = pd.read_pickle(temp_filename)\n",
    "    elif file_format == \"feather\":\n",
    "        df = pd.read_feather(temp_filename)\n",
    "    elif file_format == \"hdf5\":\n",
    "        df = pd.read_hdf(temp_filename, 'df')\n",
    "    elif file_format == \"parquet\":\n",
    "        df = pd.read_parquet(temp_filename)\n",
    "\n",
    "    del(df)\n",
    "    gc.collect()\n",
    "    os.remove(temp_filename)\n",
    "\n",
    "\n",
    "def get_filesize(filepath: str, size=\"MB\"):\n",
    "    return os.path.getsize(filepath) / SIZE_MAP.get(size, \"MB\")\n"
   ]
  },
  {
   "cell_type": "code",
   "execution_count": 5,
   "metadata": {},
   "outputs": [],
   "source": [
    "GJ_FILEPATH = \"../data/open-nhis-gj-all.csv\"\n",
    "T20_FILEPATH = \"../data/open-nhis-t20-all.csv\""
   ]
  },
  {
   "cell_type": "markdown",
   "metadata": {},
   "source": [
    "## 1. Memory Optimization"
   ]
  },
  {
   "cell_type": "code",
   "execution_count": 6,
   "metadata": {},
   "outputs": [
    {
     "name": "stdout",
     "output_type": "stream",
     "text": [
      "peak memory: 12490.92 MiB, increment: 12362.89 MiB\n",
      "CPU times: user 24 s, sys: 3.79 s, total: 27.8 s\n",
      "Wall time: 28.2 s\n"
     ]
    }
   ],
   "source": [
    "%%time\n",
    "%%memit\n",
    "gj_np = pd.read_csv(GJ_FILEPATH)"
   ]
  },
  {
   "cell_type": "code",
   "execution_count": 7,
   "metadata": {},
   "outputs": [
    {
     "name": "stdout",
     "output_type": "stream",
     "text": [
      "peak memory: 16495.77 MiB, increment: 6740.85 MiB\n",
      "CPU times: user 13.2 s, sys: 3.8 s, total: 17 s\n",
      "Wall time: 2.38 s\n"
     ]
    }
   ],
   "source": [
    "%%time\n",
    "%%memit\n",
    "gj_pa = pd.read_csv(GJ_FILEPATH, dtype_backend='pyarrow', engine='pyarrow')"
   ]
  },
  {
   "cell_type": "code",
   "execution_count": 8,
   "metadata": {},
   "outputs": [
    {
     "name": "stdout",
     "output_type": "stream",
     "text": [
      "GJ Numpy: 10,442.86 MB\n",
      "GJ PyArrow: 3,393.22 MB\n"
     ]
    }
   ],
   "source": [
    "print(f\"GJ Numpy: {memory_usage_pdobj(gj_np):,.2f} MB\")\n",
    "print(f\"GJ PyArrow: {memory_usage_pdobj(gj_pa):,.2f} MB\")"
   ]
  },
  {
   "cell_type": "markdown",
   "metadata": {},
   "source": [
    "### 1.1 데이터 형식 변환\n",
    "\n",
    "데이터 형식 변환에 따른 메모리 사용량\n",
    "\n",
    "- 코드북 사용\n",
    "- 파일을 읽을 때 데이터 타입 지정\n",
    "\n",
    "(+) pyarrow 데이터 타입을 지정했을 때 변화"
   ]
  },
  {
   "cell_type": "markdown",
   "metadata": {},
   "source": [
    "#### 코드북 사용"
   ]
  },
  {
   "cell_type": "code",
   "execution_count": 9,
   "metadata": {},
   "outputs": [],
   "source": [
    "CODEBOOK = {\n",
    "    \"SEX\": {1: \"남자\", 2: \"여자\"},\n",
    "    \"SIDO\": {11: \"서울특별시\", 26: \"부산광역시\", 27: \"대구광역시\", 28: \"인천광역시\", 29: \"광주광역시\", 30: \"대전광역시\",\n",
    "             31: \"울산광역시\", 36: \"세종특별자치시\", 42: \"강원도\", 43: \"충청북도\", 44: \"충청남도\", 45: \"전라북도\",\n",
    "             46: \"전라남도\", 47: \"경상북도\", 48: \"경상남도\", 49: \"제주특별자치도\"},\n",
    "    \"HEAR_LEFT\": {1: \"정상\", 2: \"비정상\"},\n",
    "    \"HEAR_RIGHT\": {1: \"정상\", 2: \"비정상\"},\n",
    "    \"SMK_STAT_TYPE_CD\": {1: \"비흡연\", 2: \"금연\", 3: \"흡연\"},\n",
    "    \"DRK_YN\": {0: \"N\", 1: \"Y\"},\n",
    "}\n",
    "\n",
    "CODEBOOK = {col: {v: str(k) for k, v in d.items()} for col, d in CODEBOOK.items()}"
   ]
  },
  {
   "cell_type": "code",
   "execution_count": 10,
   "metadata": {},
   "outputs": [
    {
     "name": "stdout",
     "output_type": "stream",
     "text": [
      "peak memory: 19293.38 MiB, increment: 2795.93 MiB\n",
      "CPU times: user 21.6 s, sys: 1.65 s, total: 23.2 s\n",
      "Wall time: 23.6 s\n"
     ]
    }
   ],
   "source": [
    "%%time\n",
    "%%memit\n",
    "gj_np = gj_np.replace(CODEBOOK)"
   ]
  },
  {
   "cell_type": "code",
   "execution_count": 11,
   "metadata": {},
   "outputs": [
    {
     "name": "stdout",
     "output_type": "stream",
     "text": [
      "peak memory: 17312.34 MiB, increment: 754.93 MiB\n",
      "CPU times: user 11.4 s, sys: 414 ms, total: 11.8 s\n",
      "Wall time: 12.2 s\n"
     ]
    }
   ],
   "source": [
    "%%time\n",
    "%%memit\n",
    "gj_pa = gj_pa.replace(CODEBOOK)"
   ]
  },
  {
   "cell_type": "code",
   "execution_count": 12,
   "metadata": {},
   "outputs": [
    {
     "name": "stdout",
     "output_type": "stream",
     "text": [
      "GJ Numpy: 8,005.85 MB\n",
      "GJ PyArrow: 2,846.67 MB\n"
     ]
    }
   ],
   "source": [
    "print(f\"GJ Numpy: {memory_usage_pdobj(gj_np):,.2f} MB\")\n",
    "print(f\"GJ PyArrow: {memory_usage_pdobj(gj_pa):,.2f} MB\") "
   ]
  },
  {
   "cell_type": "markdown",
   "metadata": {},
   "source": [
    "#### 데이터 타입 지정"
   ]
  },
  {
   "cell_type": "code",
   "execution_count": 13,
   "metadata": {},
   "outputs": [],
   "source": [
    "GJ_USECOLS = [\"HCHK_YEAR\", \"IDV_ID\", \"SEX\", \"AGE_GROUP\", \"SIDO\", \"HEIGHT\", \"WEIGHT\", \"SIGHT_LEFT\", \"SIGHT_RIGHT\",\n",
    "              \"HEAR_LEFT\", \"HEAR_RIGHT\", \"BP_HIGH\", \"BP_LWST\", \"BLDS\", \"TOT_CHOLE\", \"HMG\", \"OLIG_PROTE_CD\",\n",
    "              \"SGOT_AST\", \"SGPT_ALT\", \"GAMMA_GTP\", \"SMK_STAT_TYPE_CD\", \"DRK_YN\"]\n",
    "\n",
    "# 2.0부터는 data type으로 float8, float16 사용 못함\n",
    "GJ_DTYPES_NP = {\n",
    "    \"HCHK_YEAR\": \"int16\",\n",
    "    \"IDV_ID\": \"int32\",\n",
    "    \"SEX\": \"category\",\n",
    "    \"AGE_GROUP\": \"category\",\n",
    "    \"SIDO\": \"category\",\n",
    "    \"HEIGHT\": \"float32\",\n",
    "    \"WEIGHT\": \"float32\",\n",
    "    \"SIGHT_LEFT\": \"category\",\n",
    "    \"SIGHT_RIGHT\": \"category\",\n",
    "    \"HEAR_LEFT\": \"category\",\n",
    "    \"HEAR_RIGHT\": \"category\",\n",
    "    \"BP_HIGH\": \"float32\",\n",
    "    \"BP_LWST\": \"float32\",\n",
    "    \"BLDS\": \"float32\",\n",
    "    \"TOT_CHOLE\": \"float32\",\n",
    "    \"HMG\": \"float32\",\n",
    "    \"OLIG_PROTE_CD\": \"float32\",\n",
    "    \"SGOT_AST\": \"float32\",\n",
    "    \"SGPT_ALT\": \"float32\",\n",
    "    \"GAMMA_GTP\": \"float32\",\n",
    "    \"SMK_STAT_TYPE_CD\": \"category\",\n",
    "    \"DRK_YN\": \"category\",\n",
    "}\n",
    "\n",
    "GJ_DTYPES_PA = {k: v + \"[pyarrow]\" if v.startswith((\"int\", \"float\")) else v for k, v in GJ_DTYPES_NP.items()}"
   ]
  },
  {
   "cell_type": "code",
   "execution_count": 14,
   "metadata": {},
   "outputs": [
    {
     "name": "stdout",
     "output_type": "stream",
     "text": [
      "peak memory: 19578.28 MiB, increment: 2263.48 MiB\n",
      "CPU times: user 23.1 s, sys: 2.44 s, total: 25.6 s\n",
      "Wall time: 26 s\n"
     ]
    }
   ],
   "source": [
    "%%time\n",
    "%%memit\n",
    "gj_np = pd.read_csv(GJ_FILEPATH, dtype=GJ_DTYPES_NP)"
   ]
  },
  {
   "cell_type": "code",
   "execution_count": 15,
   "metadata": {},
   "outputs": [
    {
     "name": "stdout",
     "output_type": "stream",
     "text": [
      "<class 'pandas.core.frame.DataFrame'>\n",
      "RangeIndex: 18887937 entries, 0 to 18887936\n",
      "Data columns (total 22 columns):\n",
      " #   Column            Dtype   \n",
      "---  ------            -----   \n",
      " 0   HCHK_YEAR         int16   \n",
      " 1   IDV_ID            int32   \n",
      " 2   SEX               category\n",
      " 3   AGE_GROUP         category\n",
      " 4   SIDO              category\n",
      " 5   HEIGHT            float32 \n",
      " 6   WEIGHT            float32 \n",
      " 7   SIGHT_LEFT        category\n",
      " 8   SIGHT_RIGHT       category\n",
      " 9   HEAR_LEFT         category\n",
      " 10  HEAR_RIGHT        category\n",
      " 11  BP_HIGH           float32 \n",
      " 12  BP_LWST           float32 \n",
      " 13  BLDS              float32 \n",
      " 14  TOT_CHOLE         float32 \n",
      " 15  HMG               float32 \n",
      " 16  OLIG_PROTE_CD     float32 \n",
      " 17  SGOT_AST          float32 \n",
      " 18  SGPT_ALT          float32 \n",
      " 19  GAMMA_GTP         float32 \n",
      " 20  SMK_STAT_TYPE_CD  category\n",
      " 21  DRK_YN            category\n",
      "dtypes: category(9), float32(11), int16(1), int32(1)\n",
      "memory usage: 1.0 GB\n"
     ]
    }
   ],
   "source": [
    "gj_np.info(memory_usage='deep')"
   ]
  },
  {
   "cell_type": "code",
   "execution_count": 16,
   "metadata": {},
   "outputs": [
    {
     "name": "stdout",
     "output_type": "stream",
     "text": [
      "peak memory: 19466.49 MiB, increment: 4346.62 MiB\n",
      "CPU times: user 15.8 s, sys: 4.65 s, total: 20.5 s\n",
      "Wall time: 5.51 s\n"
     ]
    }
   ],
   "source": [
    "%%time\n",
    "%%memit\n",
    "gj_pa = pd.read_csv(GJ_FILEPATH, dtype=GJ_DTYPES_PA, dtype_backend=\"pyarrow\", engine='pyarrow') "
   ]
  },
  {
   "cell_type": "code",
   "execution_count": 17,
   "metadata": {},
   "outputs": [
    {
     "name": "stdout",
     "output_type": "stream",
     "text": [
      "<class 'pandas.core.frame.DataFrame'>\n",
      "RangeIndex: 18887937 entries, 0 to 18887936\n",
      "Data columns (total 22 columns):\n",
      " #   Column            Dtype         \n",
      "---  ------            -----         \n",
      " 0   HCHK_YEAR         int16[pyarrow]\n",
      " 1   IDV_ID            int32[pyarrow]\n",
      " 2   SEX               category      \n",
      " 3   AGE_GROUP         category      \n",
      " 4   SIDO              category      \n",
      " 5   HEIGHT            float[pyarrow]\n",
      " 6   WEIGHT            float[pyarrow]\n",
      " 7   SIGHT_LEFT        category      \n",
      " 8   SIGHT_RIGHT       category      \n",
      " 9   HEAR_LEFT         category      \n",
      " 10  HEAR_RIGHT        category      \n",
      " 11  BP_HIGH           float[pyarrow]\n",
      " 12  BP_LWST           float[pyarrow]\n",
      " 13  BLDS              float[pyarrow]\n",
      " 14  TOT_CHOLE         float[pyarrow]\n",
      " 15  HMG               float[pyarrow]\n",
      " 16  OLIG_PROTE_CD     float[pyarrow]\n",
      " 17  SGOT_AST          float[pyarrow]\n",
      " 18  SGPT_ALT          float[pyarrow]\n",
      " 19  GAMMA_GTP         float[pyarrow]\n",
      " 20  SMK_STAT_TYPE_CD  category      \n",
      " 21  DRK_YN            category      \n",
      "dtypes: category(9), float[pyarrow](11), int16[pyarrow](1), int32[pyarrow](1)\n",
      "memory usage: 1.1 GB\n"
     ]
    }
   ],
   "source": [
    "gj_pa.info(memory_usage='deep')"
   ]
  },
  {
   "cell_type": "code",
   "execution_count": 18,
   "metadata": {},
   "outputs": [
    {
     "name": "stdout",
     "output_type": "stream",
     "text": [
      "GJ Numpy: 1,062.77 MB\n",
      "GJ PyArrow: 1,092.04 MB\n"
     ]
    }
   ],
   "source": [
    "print(f\"GJ Numpy: {memory_usage_pdobj(gj_np):,.2f} MB\")\n",
    "print(f\"GJ PyArrow: {memory_usage_pdobj(gj_pa):,.2f} MB\") "
   ]
  },
  {
   "cell_type": "markdown",
   "metadata": {},
   "source": [
    "### 1.2 파일 포맷에 따른 처리시간, 메모리사용량, 파일크기 비교\n",
    "csv, pickle, feather, hdf5, parquet 포맷간 비교분석\n",
    "- 읽기/쓰기 시간 비교\n",
    "- IO 시에 메모리 사용량 비교\n",
    "- 저장된 파일의 크기 비교\n",
    "\n",
    "(+) pyarrow 데이터 타입을 지정했을 때 변화"
   ]
  },
  {
   "cell_type": "code",
   "execution_count": 19,
   "metadata": {},
   "outputs": [],
   "source": [
    "gj_np = pd.read_csv(GJ_FILEPATH)"
   ]
  },
  {
   "cell_type": "code",
   "execution_count": 20,
   "metadata": {},
   "outputs": [],
   "source": [
    "gj_pa = pd.read_csv(GJ_FILEPATH, dtype_backend='pyarrow', engine='pyarrow')"
   ]
  },
  {
   "cell_type": "code",
   "execution_count": 21,
   "metadata": {},
   "outputs": [
    {
     "name": "stdout",
     "output_type": "stream",
     "text": [
      "\n",
      "\n",
      "=== csv ===\n",
      "[save_as]\n",
      "Elapsed Time: 165.138 seconds,\n",
      "Peak Memory: 23,910.24 MB,\n",
      "Increment Memory: 3.28 MB\n",
      "File size: 2,175.33 MB\n",
      "[load_as]\n",
      "Elapsed Time: 27.930 seconds,\n",
      "Peak Memory: 24,498.01 MB,\n",
      "Increment Memory: 587.77 MB\n",
      "\n",
      "\n",
      "=== pickle ===\n",
      "[save_as]\n",
      "Elapsed Time: 3.454 seconds,\n",
      "Peak Memory: 24,498.03 MB,\n",
      "Increment Memory: 0.02 MB\n",
      "File size: 2,926.95 MB\n",
      "[load_as]\n",
      "Elapsed Time: 4.167 seconds,\n",
      "Peak Memory: 23,534.17 MB,\n",
      "Increment Memory: -963.86 MB\n",
      "\n",
      "\n",
      "=== feather ===\n",
      "[save_as]\n",
      "Elapsed Time: 4.849 seconds,\n",
      "Peak Memory: 23,563.28 MB,\n",
      "Increment Memory: 29.10 MB\n",
      "File size: 1,068.58 MB\n",
      "[load_as]\n",
      "Elapsed Time: 2.638 seconds,\n",
      "Peak Memory: 23,842.08 MB,\n",
      "Increment Memory: 278.81 MB\n",
      "\n",
      "\n",
      "=== parquet ===\n",
      "[save_as]\n",
      "Elapsed Time: 11.225 seconds,\n",
      "Peak Memory: 23,862.82 MB,\n",
      "Increment Memory: 20.73 MB\n",
      "File size: 301.21 MB\n",
      "[load_as]\n",
      "Elapsed Time: 3.534 seconds,\n",
      "Peak Memory: 24,060.43 MB,\n",
      "Increment Memory: 197.62 MB\n"
     ]
    }
   ],
   "source": [
    "for file_format in [\"csv\", \"pickle\", \"feather\", \"parquet\"]:\n",
    "    print(f\"\\n\\n=== {file_format} ===\")\n",
    "    temp = save_as(gj_np, file_format)\n",
    "    print(f\"File size: {get_filesize(temp):,.2f} MB\")\n",
    "    load_as(temp, file_format)"
   ]
  },
  {
   "cell_type": "code",
   "execution_count": 22,
   "metadata": {},
   "outputs": [
    {
     "name": "stdout",
     "output_type": "stream",
     "text": [
      "\n",
      "\n",
      "=== csv ===\n",
      "[save_as]\n",
      "Elapsed Time: 188.767 seconds,\n",
      "Peak Memory: 24,068.79 MB,\n",
      "Increment Memory: 8.34 MB\n",
      "File size: 2,175.33 MB\n",
      "[load_as]\n",
      "Elapsed Time: 26.222 seconds,\n",
      "Peak Memory: 25,215.53 MB,\n",
      "Increment Memory: 1,146.74 MB\n",
      "\n",
      "\n",
      "=== pickle ===\n",
      "[save_as]\n",
      "Elapsed Time: 1.840 seconds,\n",
      "Peak Memory: 25,215.54 MB,\n",
      "Increment Memory: 0.02 MB\n",
      "File size: 3,412.85 MB\n",
      "[load_as]\n",
      "Elapsed Time: 0.653 seconds,\n",
      "Peak Memory: 25,366.99 MB,\n",
      "Increment Memory: 151.45 MB\n",
      "\n",
      "\n",
      "=== feather ===\n",
      "[save_as]\n",
      "Elapsed Time: 1.673 seconds,\n",
      "Peak Memory: 25,367.83 MB,\n",
      "Increment Memory: 0.84 MB\n",
      "File size: 1,072.04 MB\n",
      "[load_as]\n",
      "Elapsed Time: 1.071 seconds,\n",
      "Peak Memory: 25,477.20 MB,\n",
      "Increment Memory: 109.38 MB\n",
      "\n",
      "\n",
      "=== parquet ===\n",
      "[save_as]\n",
      "Elapsed Time: 7.304 seconds,\n",
      "Peak Memory: 25,477.35 MB,\n",
      "Increment Memory: 0.15 MB\n",
      "File size: 302.34 MB\n",
      "[load_as]\n",
      "Elapsed Time: 1.388 seconds,\n",
      "Peak Memory: 25,485.41 MB,\n",
      "Increment Memory: 8.06 MB\n"
     ]
    }
   ],
   "source": [
    "for file_format in [\"csv\", \"pickle\", \"feather\", \"parquet\"]:\n",
    "    print(f\"\\n\\n=== {file_format} ===\")\n",
    "    temp = save_as(gj_pa, file_format)\n",
    "    print(f\"File size: {get_filesize(temp):,.2f} MB\")\n",
    "    load_as(temp, file_format)"
   ]
  },
  {
   "cell_type": "markdown",
   "metadata": {},
   "source": [
    "## 2. Performance Optimization"
   ]
  },
  {
   "cell_type": "code",
   "execution_count": 23,
   "metadata": {},
   "outputs": [],
   "source": [
    "import numpy as np\n",
    "try:\n",
    "    import pyarrow as pa\n",
    "except:\n",
    "    pass"
   ]
  },
  {
   "cell_type": "markdown",
   "metadata": {},
   "source": [
    "### 2.1 건강위험지수 산출\n",
    "numeric arithmetic operations의 성능\n",
    "- iteration\n",
    "- np vectorization\n",
    "- pa vectorization"
   ]
  },
  {
   "cell_type": "code",
   "execution_count": 24,
   "metadata": {},
   "outputs": [],
   "source": [
    "SCORING_COLS = ['IDV_ID', 'SEX', 'AGE_GROUP', 'HEIGHT', 'WEIGHT', 'BLDS', 'TOT_CHOLE',\n",
    "                'HMG', 'OLIG_PROTE_CD', 'SGOT_AST', 'SGPT_ALT', 'SMK_STAT_TYPE_CD', 'DRK_YN']\n",
    "\n",
    "\n",
    "def scoring_health_pd(patient):\n",
    "    bmi = ((patient['WEIGHT'] / (patient['HEIGHT']/100)**2) >= 30) * 1  # 체질량(BMI)\n",
    "    blds = (patient['BLDS'] >= 125) * 1  # 공복혈당 BLDS\n",
    "    chole = (patient['TOT_CHOLE'] >= 130) * 1  # 총콜레스테롤 TOT_CHOLE\n",
    "    hmg = (patient['HMG'] < 12) * 1  # 혈색소 HMG\n",
    "    sg = ((patient['SGOT_AST'] >= 40) | (patient['SGPT_ALT'] >= 40)) * 1  # 혈청지오티 SGOT_AST, SGPT_ALT\n",
    "    smoke = (patient['SMK_STAT_TYPE_CD'] == 3) * 1  # 흡연 SMOKE\n",
    "    drink = (patient['DRK_YN'] == 1) * 1 # 음주 DRINK\n",
    "    \n",
    "    patient_score = np.sum([bmi, blds, chole, hmg, sg, smoke, drink], axis=0)\n",
    "    return patient_score\n",
    "\n",
    "\n",
    "def scoring_health_np(patient):\n",
    "    bmi = ((patient['WEIGHT'].values / (patient['HEIGHT'].values/100)**2) >= 30) * 1  # 체질량(BMI)\n",
    "    blds = (patient['BLDS'].values >= 125) * 1  # 공복혈당 BLDS\n",
    "    chole = (patient['TOT_CHOLE'].values >= 130) * 1  # 총콜레스테롤 TOT_CHOLE\n",
    "    hmg = (patient['HMG'].values < 12) * 1  # 혈색소 HMG\n",
    "    sg = ((patient['SGOT_AST'].values >= 40) | (patient['SGPT_ALT'].values >= 40)) * 1  # 혈청지오티 SGOT_AST, SGPT_ALT\n",
    "    smoke = (patient['SMK_STAT_TYPE_CD'].values == 3) * 1  # 흡연 SMOKE\n",
    "    drink = (patient['DRK_YN'].values == 1) * 1 # 음주 DRINK\n",
    "    \n",
    "    patient_score = np.sum([bmi, blds, chole, hmg, sg, smoke, drink], axis=0)\n",
    "    return patient_score\n",
    "\n",
    "def scoring_health_pa(patient):\n",
    "    bmi = ((patient['WEIGHT'].array / (patient['HEIGHT'].array/100)**2) >= 30).astype('int8[pyarrow]')  # 체질량(BMI)\n",
    "    blds = (patient['BLDS'].array >= 125).astype('int8[pyarrow]')  # 공복혈당 BLDS\n",
    "    chole = (patient['TOT_CHOLE'].array >= 130).astype('int8[pyarrow]')  # 총콜레스테롤 TOT_CHOLE\n",
    "    hmg = (patient['HMG'].array < 12).astype('int8[pyarrow]')  # 혈색소 HMG\n",
    "    sg = ((patient['SGOT_AST'].array >= 40) | (patient['SGPT_ALT'].array >= 40)).astype('int8[pyarrow]')  # 혈청지오티 SGOT_AST, SGPT_ALT\n",
    "    smoke = (patient['SMK_STAT_TYPE_CD'] == 3).astype('int8[pyarrow]')  # 흡연 SMOKE\n",
    "    drink = (patient['DRK_YN'] == 1).astype('int8[pyarrow]') # 음주 DRINK\n",
    "    \n",
    "    patient_score = np.sum([bmi, blds, chole, hmg, sg, smoke, drink], axis=0)\n",
    "    return patient_score"
   ]
  },
  {
   "cell_type": "code",
   "execution_count": 25,
   "metadata": {},
   "outputs": [
    {
     "name": "stdout",
     "output_type": "stream",
     "text": [
      "peak memory: 24678.58 MiB, increment: 373.89 MiB\n",
      "CPU times: user 16.1 s, sys: 1.89 s, total: 18 s\n",
      "Wall time: 18.5 s\n"
     ]
    }
   ],
   "source": [
    "%%time\n",
    "%%memit\n",
    "gj_np = pd.read_csv(GJ_FILEPATH, usecols=SCORING_COLS, dtype=GJ_DTYPES_NP)\n",
    "gj_np = gj_np.replace(CODEBOOK).fillna(method=\"bfill\")"
   ]
  },
  {
   "cell_type": "code",
   "execution_count": 26,
   "metadata": {},
   "outputs": [
    {
     "name": "stdout",
     "output_type": "stream",
     "text": [
      "peak memory: 26468.77 MiB, increment: 5008.12 MiB\n",
      "CPU times: user 1min 15s, sys: 3.89 s, total: 1min 19s\n",
      "Wall time: 1min 19s\n"
     ]
    }
   ],
   "source": [
    "%%time\n",
    "%%memit\n",
    "gj_pa = pd.read_csv(GJ_FILEPATH, usecols=SCORING_COLS, dtype=GJ_DTYPES_PA, dtype_backend=\"pyarrow\")\n",
    "gj_pa = gj_pa.replace(CODEBOOK).fillna(method=\"bfill\")"
   ]
  },
  {
   "cell_type": "markdown",
   "metadata": {},
   "source": [
    "#### Iteration using `iterrows()`"
   ]
  },
  {
   "cell_type": "code",
   "execution_count": 27,
   "metadata": {},
   "outputs": [
    {
     "name": "stdout",
     "output_type": "stream",
     "text": [
      "CPU times: user 12min 13s, sys: 4.79 s, total: 12min 18s\n",
      "Wall time: 12min 18s\n"
     ]
    }
   ],
   "source": [
    "%%time\n",
    "scores_itterrows = []\n",
    "for _, patient in gj_np.iterrows():\n",
    "    patient_score = scoring_health_pd(patient)\n",
    "    scores_itterrows.append(patient_score)"
   ]
  },
  {
   "cell_type": "markdown",
   "metadata": {},
   "source": [
    "#### Iteration using `.apply()`"
   ]
  },
  {
   "cell_type": "code",
   "execution_count": 28,
   "metadata": {},
   "outputs": [
    {
     "name": "stdout",
     "output_type": "stream",
     "text": [
      "peak memory: 38070.17 MiB, increment: 8916.32 MiB\n",
      "CPU times: user 6min 32s, sys: 4.77 s, total: 6min 37s\n",
      "Wall time: 6min 38s\n"
     ]
    }
   ],
   "source": [
    "%%time\n",
    "%%memit\n",
    "scores_apply = gj_np.apply(scoring_health_pd, axis=1)"
   ]
  },
  {
   "cell_type": "markdown",
   "metadata": {},
   "source": [
    "#### Vectorization with `pd.Series`"
   ]
  },
  {
   "cell_type": "code",
   "execution_count": 29,
   "metadata": {},
   "outputs": [
    {
     "name": "stdout",
     "output_type": "stream",
     "text": [
      "peak memory: 30202.95 MiB, increment: 1005.60 MiB\n",
      "CPU times: user 501 ms, sys: 655 ms, total: 1.16 s\n",
      "Wall time: 1.54 s\n"
     ]
    }
   ],
   "source": [
    "%%time\n",
    "%%memit\n",
    "scores_pd = scoring_health_pd(gj_np)"
   ]
  },
  {
   "cell_type": "markdown",
   "metadata": {},
   "source": [
    "#### Vectorization with `np.array`"
   ]
  },
  {
   "cell_type": "code",
   "execution_count": 30,
   "metadata": {},
   "outputs": [
    {
     "name": "stdout",
     "output_type": "stream",
     "text": [
      "peak memory: 30205.04 MiB, increment: 1007.82 MiB\n",
      "CPU times: user 493 ms, sys: 619 ms, total: 1.11 s\n",
      "Wall time: 1.5 s\n"
     ]
    }
   ],
   "source": [
    "%%time\n",
    "%%memit\n",
    "scores_np = scoring_health_np(gj_np)"
   ]
  },
  {
   "cell_type": "markdown",
   "metadata": {},
   "source": [
    "#### Vectorization with `pyarrow`"
   ]
  },
  {
   "cell_type": "code",
   "execution_count": 31,
   "metadata": {},
   "outputs": [
    {
     "name": "stdout",
     "output_type": "stream",
     "text": [
      "peak memory: 29337.27 MiB, increment: 139.57 MiB\n",
      "CPU times: user 661 ms, sys: 224 ms, total: 886 ms\n",
      "Wall time: 1.29 s\n"
     ]
    }
   ],
   "source": [
    "%%time\n",
    "%%memit\n",
    "scores_pa = scoring_health_pa(gj_pa)"
   ]
  },
  {
   "cell_type": "markdown",
   "metadata": {},
   "source": [
    "#### Python List, NumPy Array, PyArrow Array"
   ]
  },
  {
   "cell_type": "code",
   "execution_count": 32,
   "metadata": {},
   "outputs": [
    {
     "name": "stdout",
     "output_type": "stream",
     "text": [
      "peak memory: 30735.50 MiB, increment: 1537.67 MiB\n",
      "CPU times: user 3.54 s, sys: 505 ms, total: 4.05 s\n",
      "Wall time: 4.44 s\n"
     ]
    }
   ],
   "source": [
    "%%time\n",
    "%%memit\n",
    "# Python List\n",
    "weight_py = gj_np[\"WEIGHT\"].tolist()\n",
    "height_py = gj_np[\"HEIGHT\"].tolist()\n",
    "\n",
    "bmi_py = list(map(lambda a, b: a / (b/100)**2, weight_py, height_py))"
   ]
  },
  {
   "cell_type": "code",
   "execution_count": 33,
   "metadata": {},
   "outputs": [
    {
     "name": "stdout",
     "output_type": "stream",
     "text": [
      "peak memory: 30704.66 MiB, increment: 0.01 MiB\n",
      "CPU times: user 652 ms, sys: 155 ms, total: 807 ms\n",
      "Wall time: 1.21 s\n"
     ]
    }
   ],
   "source": [
    "%%time\n",
    "%%memit\n",
    "# Numpy Array\n",
    "weight_np = gj_np[\"WEIGHT\"].values\n",
    "height_np = gj_np[\"HEIGHT\"].values\n",
    "\n",
    "bmi_np = np.divide(weight_np, np.power(np.divide(height_np, 100), 2))"
   ]
  },
  {
   "cell_type": "code",
   "execution_count": 34,
   "metadata": {},
   "outputs": [
    {
     "name": "stdout",
     "output_type": "stream",
     "text": [
      "peak memory: 30833.55 MiB, increment: 128.94 MiB\n",
      "CPU times: user 768 ms, sys: 79.3 ms, total: 848 ms\n",
      "Wall time: 1.24 s\n"
     ]
    }
   ],
   "source": [
    "%%time\n",
    "%%memit\n",
    "# PyArrow Array\n",
    "weight_pa = pa.array(gj_np[\"WEIGHT\"])\n",
    "height_pa = pa.array(gj_np[\"HEIGHT\"])\n",
    "\n",
    "bmi_pa = pa.compute.divide(weight_pa, pa.compute.power(pa.compute.divide(height_pa, 100), 2))"
   ]
  },
  {
   "cell_type": "markdown",
   "metadata": {},
   "source": [
    "### 2.2 병원 비용이 높은 최상위 진료내역서 5개"
   ]
  },
  {
   "cell_type": "code",
   "execution_count": 35,
   "metadata": {},
   "outputs": [],
   "source": [
    "T20_DTYPES_NP = {\n",
    "    \"STND_Y\": \"int16\",\n",
    "    \"IDV_ID\": \"int32\",\n",
    "    \"KEY_SEQ\": \"int32\",\n",
    "    \"SEX\": \"category\",\n",
    "    \"AGE_GROUP\": \"category\",\n",
    "    \"SIDO\": \"category\",\n",
    "    \"RECU_FR_DT\": \"string\",\n",
    "    \"MAIN_SICK\": \"category\",\n",
    "    \"SUB_SICK\": \"category\",\n",
    "    \"VSCN\": \"int16\",\n",
    "    \"EDEC_ADD_RT\": \"float32\",\n",
    "    \"EDEC_TRAMT\": \"int32\",\n",
    "    \"EDEC_SBRDN_AMT\": \"int32\",\n",
    "    \"EDEC_JBRDN_AMT\": \"int32\",\n",
    "}\n",
    "\n",
    "T20_DTYPES_PA = {k: v + \"[pyarrow]\" if v.startswith((\"int\", \"float\", \"string\")) else v for k, v in T20_DTYPES_NP.items()}"
   ]
  },
  {
   "cell_type": "code",
   "execution_count": 36,
   "metadata": {},
   "outputs": [
    {
     "name": "stdout",
     "output_type": "stream",
     "text": [
      "peak memory: 37664.20 MiB, increment: 6887.55 MiB\n",
      "CPU times: user 2min 36s, sys: 20.5 s, total: 2min 56s\n",
      "Wall time: 3min 1s\n"
     ]
    }
   ],
   "source": [
    "%%time\n",
    "%%memit\n",
    "t20_np = pd.read_csv(T20_FILEPATH, dtype=T20_DTYPES_NP)\n",
    "t20_np = t20_np.replace(CODEBOOK)"
   ]
  },
  {
   "cell_type": "code",
   "execution_count": 37,
   "metadata": {},
   "outputs": [
    {
     "name": "stdout",
     "output_type": "stream",
     "text": [
      "peak memory: 35717.24 MiB, increment: 11490.71 MiB\n",
      "CPU times: user 1min 42s, sys: 58.6 s, total: 2min 41s\n",
      "Wall time: 1min 28s\n"
     ]
    }
   ],
   "source": [
    "%%time\n",
    "%%memit\n",
    "t20_pa = pd.read_csv(T20_FILEPATH, dtype=T20_DTYPES_PA, dtype_backend=\"pyarrow\", engine='pyarrow')\n",
    "t20_pa = t20_pa.replace(CODEBOOK)"
   ]
  },
  {
   "cell_type": "markdown",
   "metadata": {},
   "source": [
    "#### `sorting -> head`"
   ]
  },
  {
   "cell_type": "code",
   "execution_count": 38,
   "metadata": {},
   "outputs": [
    {
     "name": "stdout",
     "output_type": "stream",
     "text": [
      "peak memory: 16402.54 MiB, increment: 1312.99 MiB\n",
      "CPU times: user 18.3 s, sys: 6.42 s, total: 24.7 s\n",
      "Wall time: 28.2 s\n"
     ]
    }
   ],
   "source": [
    "%%time\n",
    "%%memit\n",
    "result_np = t20_np[\"EDEC_TRAMT\"].sort_values(ascending=False).head(5)"
   ]
  },
  {
   "cell_type": "code",
   "execution_count": 39,
   "metadata": {},
   "outputs": [
    {
     "name": "stdout",
     "output_type": "stream",
     "text": [
      "peak memory: 18741.06 MiB, increment: 5124.00 MiB\n",
      "CPU times: user 20.7 s, sys: 2.52 s, total: 23.2 s\n",
      "Wall time: 23.6 s\n"
     ]
    }
   ],
   "source": [
    "%%time\n",
    "%%memit\n",
    "result_pa = t20_pa[\"EDEC_TRAMT\"].sort_values(ascending=False).head(5)"
   ]
  },
  {
   "cell_type": "markdown",
   "metadata": {},
   "source": [
    "#### `nlargest`"
   ]
  },
  {
   "cell_type": "code",
   "execution_count": 40,
   "metadata": {},
   "outputs": [
    {
     "name": "stdout",
     "output_type": "stream",
     "text": [
      "peak memory: 19467.38 MiB, increment: 2118.30 MiB\n",
      "CPU times: user 1.44 s, sys: 1.14 s, total: 2.57 s\n",
      "Wall time: 3.07 s\n"
     ]
    }
   ],
   "source": [
    "%%time\n",
    "%%memit\n",
    "result_np = t20_np[\"EDEC_TRAMT\"].nlargest(5)"
   ]
  },
  {
   "cell_type": "code",
   "execution_count": 41,
   "metadata": {},
   "outputs": [
    {
     "name": "stdout",
     "output_type": "stream",
     "text": [
      "peak memory: 18805.21 MiB, increment: 3575.41 MiB\n",
      "CPU times: user 2.09 s, sys: 1.47 s, total: 3.56 s\n",
      "Wall time: 3.97 s\n"
     ]
    }
   ],
   "source": [
    "%%time\n",
    "%%memit\n",
    "result_pa = t20_pa[\"EDEC_TRAMT\"].nlargest(5)"
   ]
  },
  {
   "cell_type": "markdown",
   "metadata": {},
   "source": [
    "### 2.3 건강위험지수 5 이상인 사람들의 진료내역 추출\n",
    "filtering operation의 성능\n",
    "- list comprehension\n",
    "- apply\n",
    "- pd isin\n",
    "- pd query\n",
    "- np isin\n",
    "- pd merge\n",
    "- pa ???\n",
    "\n",
    "(+) pyarrow 데이터 타입을 지정했을 때 변화"
   ]
  },
  {
   "cell_type": "code",
   "execution_count": 42,
   "metadata": {},
   "outputs": [
    {
     "data": {
      "text/html": [
       "<div>\n",
       "<style scoped>\n",
       "    .dataframe tbody tr th:only-of-type {\n",
       "        vertical-align: middle;\n",
       "    }\n",
       "\n",
       "    .dataframe tbody tr th {\n",
       "        vertical-align: top;\n",
       "    }\n",
       "\n",
       "    .dataframe thead th {\n",
       "        text-align: right;\n",
       "    }\n",
       "</style>\n",
       "<table border=\"1\" class=\"dataframe\">\n",
       "  <thead>\n",
       "    <tr style=\"text-align: right;\">\n",
       "      <th></th>\n",
       "      <th>IDV_ID</th>\n",
       "      <th>SEX</th>\n",
       "      <th>AGE_GROUP</th>\n",
       "      <th>HEIGHT</th>\n",
       "      <th>WEIGHT</th>\n",
       "      <th>BLDS</th>\n",
       "      <th>TOT_CHOLE</th>\n",
       "      <th>HMG</th>\n",
       "      <th>OLIG_PROTE_CD</th>\n",
       "      <th>SGOT_AST</th>\n",
       "      <th>SGPT_ALT</th>\n",
       "      <th>SMK_STAT_TYPE_CD</th>\n",
       "      <th>DRK_YN</th>\n",
       "    </tr>\n",
       "  </thead>\n",
       "  <tbody>\n",
       "    <tr>\n",
       "      <th>0</th>\n",
       "      <td>725578</td>\n",
       "      <td>2</td>\n",
       "      <td>1</td>\n",
       "      <td>140.0</td>\n",
       "      <td>45.0</td>\n",
       "      <td>91.0</td>\n",
       "      <td>216.0</td>\n",
       "      <td>13.4</td>\n",
       "      <td>1.0</td>\n",
       "      <td>20.0</td>\n",
       "      <td>11.0</td>\n",
       "      <td>1</td>\n",
       "      <td>1</td>\n",
       "    </tr>\n",
       "    <tr>\n",
       "      <th>1</th>\n",
       "      <td>118183</td>\n",
       "      <td>2</td>\n",
       "      <td>1</td>\n",
       "      <td>145.0</td>\n",
       "      <td>35.0</td>\n",
       "      <td>75.0</td>\n",
       "      <td>162.0</td>\n",
       "      <td>13.0</td>\n",
       "      <td>1.0</td>\n",
       "      <td>26.0</td>\n",
       "      <td>12.0</td>\n",
       "      <td>1</td>\n",
       "      <td>1</td>\n",
       "    </tr>\n",
       "    <tr>\n",
       "      <th>2</th>\n",
       "      <td>667818</td>\n",
       "      <td>2</td>\n",
       "      <td>1</td>\n",
       "      <td>145.0</td>\n",
       "      <td>35.0</td>\n",
       "      <td>85.0</td>\n",
       "      <td>149.0</td>\n",
       "      <td>12.7</td>\n",
       "      <td>1.0</td>\n",
       "      <td>16.0</td>\n",
       "      <td>15.0</td>\n",
       "      <td>1</td>\n",
       "      <td>1</td>\n",
       "    </tr>\n",
       "    <tr>\n",
       "      <th>3</th>\n",
       "      <td>877233</td>\n",
       "      <td>2</td>\n",
       "      <td>1</td>\n",
       "      <td>145.0</td>\n",
       "      <td>40.0</td>\n",
       "      <td>88.0</td>\n",
       "      <td>170.0</td>\n",
       "      <td>12.6</td>\n",
       "      <td>1.0</td>\n",
       "      <td>17.0</td>\n",
       "      <td>10.0</td>\n",
       "      <td>1</td>\n",
       "      <td>1</td>\n",
       "    </tr>\n",
       "    <tr>\n",
       "      <th>4</th>\n",
       "      <td>917332</td>\n",
       "      <td>2</td>\n",
       "      <td>1</td>\n",
       "      <td>145.0</td>\n",
       "      <td>40.0</td>\n",
       "      <td>85.0</td>\n",
       "      <td>242.0</td>\n",
       "      <td>12.2</td>\n",
       "      <td>1.0</td>\n",
       "      <td>9.0</td>\n",
       "      <td>10.0</td>\n",
       "      <td>1</td>\n",
       "      <td>1</td>\n",
       "    </tr>\n",
       "  </tbody>\n",
       "</table>\n",
       "</div>"
      ],
      "text/plain": [
       "   IDV_ID SEX AGE_GROUP  HEIGHT  WEIGHT  BLDS  TOT_CHOLE   HMG  OLIG_PROTE_CD  \\\n",
       "0  725578   2         1   140.0    45.0  91.0      216.0  13.4            1.0   \n",
       "1  118183   2         1   145.0    35.0  75.0      162.0  13.0            1.0   \n",
       "2  667818   2         1   145.0    35.0  85.0      149.0  12.7            1.0   \n",
       "3  877233   2         1   145.0    40.0  88.0      170.0  12.6            1.0   \n",
       "4  917332   2         1   145.0    40.0  85.0      242.0  12.2            1.0   \n",
       "\n",
       "   SGOT_AST  SGPT_ALT SMK_STAT_TYPE_CD DRK_YN  \n",
       "0      20.0      11.0                1      1  \n",
       "1      26.0      12.0                1      1  \n",
       "2      16.0      15.0                1      1  \n",
       "3      17.0      10.0                1      1  \n",
       "4       9.0      10.0                1      1  "
      ]
     },
     "execution_count": 42,
     "metadata": {},
     "output_type": "execute_result"
    }
   ],
   "source": [
    "gj_np.head()"
   ]
  },
  {
   "cell_type": "code",
   "execution_count": 43,
   "metadata": {},
   "outputs": [
    {
     "name": "stdout",
     "output_type": "stream",
     "text": [
      "Number of patients scoring above 5 : 940\n"
     ]
    }
   ],
   "source": [
    "PATIENTS = gj_np[scores_np >= 5][\"IDV_ID\"].unique().tolist()\n",
    "print(f\"Number of patients scoring above 5 : {len(PATIENTS):,}\")"
   ]
  },
  {
   "cell_type": "markdown",
   "metadata": {},
   "source": [
    "#### List Comprehension"
   ]
  },
  {
   "cell_type": "code",
   "execution_count": 44,
   "metadata": {},
   "outputs": [
    {
     "name": "stdout",
     "output_type": "stream",
     "text": [
      "peak memory: 18570.79 MiB, increment: 5208.49 MiB\n",
      "CPU times: user 26min 6s, sys: 9.79 s, total: 26min 16s\n",
      "Wall time: 26min 29s\n"
     ]
    }
   ],
   "source": [
    "%%time\n",
    "%%memit\n",
    "tmp = t20_np[[x in PATIENTS for x in t20_np[\"IDV_ID\"]]][[\"IDV_ID\"]]"
   ]
  },
  {
   "cell_type": "markdown",
   "metadata": {},
   "source": [
    "#### `pd.DataFrame.apply()`"
   ]
  },
  {
   "cell_type": "code",
   "execution_count": 45,
   "metadata": {},
   "outputs": [
    {
     "name": "stdout",
     "output_type": "stream",
     "text": [
      "peak memory: 18561.05 MiB, increment: 1739.88 MiB\n",
      "CPU times: user 26min 15s, sys: 10 s, total: 26min 25s\n",
      "Wall time: 26min 27s\n"
     ]
    }
   ],
   "source": [
    "%%time\n",
    "%%memit\n",
    "tmp = t20_np[t20_np[\"IDV_ID\"].apply(lambda x: x in PATIENTS)][[\"IDV_ID\"]]"
   ]
  },
  {
   "cell_type": "markdown",
   "metadata": {},
   "source": [
    "#### `pd.DataFrame.isin()`"
   ]
  },
  {
   "cell_type": "code",
   "execution_count": 46,
   "metadata": {},
   "outputs": [
    {
     "name": "stdout",
     "output_type": "stream",
     "text": [
      "peak memory: 20025.65 MiB, increment: 8401.74 MiB\n",
      "CPU times: user 29.4 s, sys: 7.05 s, total: 36.4 s\n",
      "Wall time: 37.9 s\n"
     ]
    }
   ],
   "source": [
    "%%time\n",
    "%%memit\n",
    "tmp = t20_np[t20_np.isin({\"IDV_ID\": PATIENTS})[\"IDV_ID\"]][[\"IDV_ID\"]]"
   ]
  },
  {
   "cell_type": "markdown",
   "metadata": {},
   "source": [
    "#### `pd.DataFrame.query()`"
   ]
  },
  {
   "cell_type": "code",
   "execution_count": 47,
   "metadata": {},
   "outputs": [
    {
     "name": "stdout",
     "output_type": "stream",
     "text": [
      "peak memory: 20615.93 MiB, increment: 589.33 MiB\n",
      "CPU times: user 3.08 s, sys: 1.76 s, total: 4.84 s\n",
      "Wall time: 6.02 s\n"
     ]
    }
   ],
   "source": [
    "%%time\n",
    "%%memit\n",
    "tmp = t20_np[[\"IDV_ID\"]].query(\"IDV_ID in @PATIENTS\")"
   ]
  },
  {
   "cell_type": "markdown",
   "metadata": {},
   "source": [
    "#### `pd.DataFrame.merge()`\n"
   ]
  },
  {
   "cell_type": "code",
   "execution_count": 48,
   "metadata": {},
   "outputs": [
    {
     "name": "stdout",
     "output_type": "stream",
     "text": [
      "peak memory: 20064.92 MiB, increment: 4348.41 MiB\n",
      "CPU times: user 10.1 s, sys: 2.3 s, total: 12.4 s\n",
      "Wall time: 12.9 s\n"
     ]
    }
   ],
   "source": [
    "%%time\n",
    "%%memit\n",
    "tmp = t20_np.merge(pd.Series(PATIENTS, name='IDV_ID'), how='inner', on='IDV_ID')"
   ]
  },
  {
   "cell_type": "markdown",
   "metadata": {},
   "source": [
    "#### `np.isin()`"
   ]
  },
  {
   "cell_type": "code",
   "execution_count": 49,
   "metadata": {},
   "outputs": [
    {
     "name": "stdout",
     "output_type": "stream",
     "text": [
      "peak memory: 17171.03 MiB, increment: 822.85 MiB\n",
      "CPU times: user 1.17 s, sys: 389 ms, total: 1.56 s\n",
      "Wall time: 1.96 s\n"
     ]
    }
   ],
   "source": [
    "%%time\n",
    "%%memit\n",
    "tmp = t20_np[np.isin(t20_np[\"IDV_ID\"].values, PATIENTS)][[\"IDV_ID\"]]"
   ]
  },
  {
   "cell_type": "markdown",
   "metadata": {},
   "source": [
    "#### `pa.compute.is_in()`"
   ]
  },
  {
   "cell_type": "code",
   "execution_count": 50,
   "metadata": {},
   "outputs": [
    {
     "name": "stdout",
     "output_type": "stream",
     "text": [
      "peak memory: 17388.33 MiB, increment: 913.15 MiB\n",
      "CPU times: user 2.19 s, sys: 314 ms, total: 2.51 s\n",
      "Wall time: 2.91 s\n"
     ]
    }
   ],
   "source": [
    "%%time\n",
    "%%memit\n",
    "tmp = t20_np[pa.compute.is_in(pa.array(t20_pa[\"IDV_ID\"]), pa.array(PATIENTS)).to_pandas()][[\"IDV_ID\"]]"
   ]
  },
  {
   "cell_type": "markdown",
   "metadata": {},
   "source": [
    "### PyArrow datatype 데이터프레임에서의 시행"
   ]
  },
  {
   "cell_type": "markdown",
   "metadata": {},
   "source": [
    "#### `np.isin()`"
   ]
  },
  {
   "cell_type": "code",
   "execution_count": 51,
   "metadata": {},
   "outputs": [
    {
     "name": "stdout",
     "output_type": "stream",
     "text": [
      "peak memory: 20621.08 MiB, increment: 3397.46 MiB\n",
      "CPU times: user 1.39 s, sys: 1.61 s, total: 2.99 s\n",
      "Wall time: 3.39 s\n"
     ]
    }
   ],
   "source": [
    "%%time\n",
    "%%memit\n",
    "tmp = t20_pa[np.isin(t20_pa[\"IDV_ID\"].array, np.array(PATIENTS))][[\"IDV_ID\"]]"
   ]
  },
  {
   "cell_type": "markdown",
   "metadata": {},
   "source": [
    "#### `pa.compute.is_in()`"
   ]
  },
  {
   "cell_type": "code",
   "execution_count": 52,
   "metadata": {},
   "outputs": [
    {
     "name": "stdout",
     "output_type": "stream",
     "text": [
      "peak memory: 20797.61 MiB, increment: 175.41 MiB\n",
      "CPU times: user 2.17 s, sys: 193 ms, total: 2.36 s\n",
      "Wall time: 2.76 s\n"
     ]
    }
   ],
   "source": [
    "%%time\n",
    "%%memit\n",
    "tmp = t20_pa[pa.compute.is_in(pa.array(t20_pa[\"IDV_ID\"]), pa.array(PATIENTS)).to_pandas()][[\"IDV_ID\"]]"
   ]
  },
  {
   "cell_type": "code",
   "execution_count": 53,
   "metadata": {},
   "outputs": [
    {
     "name": "stdout",
     "output_type": "stream",
     "text": [
      "peak memory: 22006.80 MiB, increment: 1383.84 MiB\n",
      "CPU times: user 2.49 s, sys: 897 ms, total: 3.39 s\n",
      "Wall time: 3.87 s\n"
     ]
    }
   ],
   "source": [
    "%%time\n",
    "%%memit\n",
    "tmp = t20_pa[[\"IDV_ID\"]].query(\"IDV_ID in @PATIENTS\")"
   ]
  },
  {
   "cell_type": "code",
   "execution_count": 54,
   "metadata": {},
   "outputs": [
    {
     "name": "stdout",
     "output_type": "stream",
     "text": [
      "peak memory: 21859.88 MiB, increment: 3090.37 MiB\n",
      "CPU times: user 7.07 s, sys: 2.14 s, total: 9.21 s\n",
      "Wall time: 9.84 s\n"
     ]
    }
   ],
   "source": [
    "%%time\n",
    "%%memit\n",
    "tmp = t20_pa.merge(pd.Series(PATIENTS, name='IDV_ID', dtype='int32[pyarrow]'), how='inner', on='IDV_ID')"
   ]
  },
  {
   "cell_type": "code",
   "execution_count": null,
   "metadata": {},
   "outputs": [],
   "source": []
  }
 ],
 "metadata": {
  "kernelspec": {
   "display_name": "py311-pd2",
   "language": "python",
   "name": "python3"
  },
  "language_info": {
   "codemirror_mode": {
    "name": "ipython",
    "version": 3
   },
   "file_extension": ".py",
   "mimetype": "text/x-python",
   "name": "python",
   "nbconvert_exporter": "python",
   "pygments_lexer": "ipython3",
   "version": "3.11.4"
  },
  "orig_nbformat": 4
 },
 "nbformat": 4,
 "nbformat_minor": 2
}
